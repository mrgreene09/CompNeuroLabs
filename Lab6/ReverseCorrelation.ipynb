{
 "cells": [
  {
   "cell_type": "markdown",
   "metadata": {},
   "source": [
    "## <span style=\"color:red\">Reverse Correlation and Receptive Field Mapping</span>\n",
    "\n",
    "Reverse correlation is a technique for studying how sensory neurons respond to various stimuli, in order to understand the relationship between certain stimuli and a neuron. Many neurons are driven by sensory stimulation from the outside world and is in a neutral state in the absence of that stimulation. Then, when presented with an appropriate stimulus, the neuron is either activated above its ground-state of activity or in some cases suppressed below it's ground-state.\n",
    "\n",
    "The H1.mat file in this lab contains data collected from de Ruyter van Stevenick from a fly's H1 visual neuron responding to a white noise visual motion. Data were sampled at 500 Hz (in other words, $\\Delta t = 2ms$). \n",
    "\n",
    "Within the file, $rho$ is a boolean vector indicating spike times (1 = spike, 0 = no spike), and $stim$ indicates the intensity of the stimulus (in this case, the direction of the random moving dots, with highly positive values indicating rapid horizontal motion).\n",
    "\n",
    "<img src=\"image2.gif\" alt=\"drawing\" width=\"400\"/>\n",
    "\n",
    "The fly has two H1 neurons, one in each hemisphere, and they are located in the Lobula plate in the diagram above. These neurons are very large making them easy to record from. Why are they called H1 neurons? Because they detect movement in the horizontal direction! We're going to prove this in the first problem!\n",
    "\n",
    "Compute the spike-triggered average over the range from 0 to 300 ms (inclusive). Create a plot with appropriate labels on the x and y axis."
   ]
  },
  {
   "cell_type": "code",
   "execution_count": 2,
   "metadata": {},
   "outputs": [],
   "source": [
    "# Importing packages to load data\n",
    "import scipy.io as sio\n",
    "H1 = sio.loadmat('H1.mat')\n",
    "rho = H1['rho']\n",
    "stim = H1['stim']\n",
    "\n",
    "# Making them one dimensional to do further calculations\n",
    "rho = rho[:,0]\n",
    "stim = stim[:,0]"
   ]
  },
  {
   "cell_type": "code",
   "execution_count": 3,
   "metadata": {},
   "outputs": [],
   "source": [
    "# import package for data storage\n",
    "import numpy as np\n",
    "# find spikes\n",
    "spikes, = np.nonzero(rho)\n",
    "# Drop spikes occuring within the first 150 ms\n",
    "spikes = \n",
    "\n",
    "# pre-allocate memory\n",
    "Stim = np.zeros()\n",
    "\n",
    "# loop through matrix\n",
    "for i in range(len(spikes)):\n",
    "    Stim[i,:] = stim[spikes[i]-150:spikes[i]]"
   ]
  },
  {
   "cell_type": "code",
   "execution_count": 6,
   "metadata": {},
   "outputs": [
    {
     "ename": "SyntaxError",
     "evalue": "invalid syntax (<ipython-input-6-c0aef57a06e6>, line 4)",
     "output_type": "error",
     "traceback": [
      "\u001b[0;36m  File \u001b[0;32m\"<ipython-input-6-c0aef57a06e6>\"\u001b[0;36m, line \u001b[0;32m4\u001b[0m\n\u001b[0;31m    STA =\u001b[0m\n\u001b[0m          ^\u001b[0m\n\u001b[0;31mSyntaxError\u001b[0m\u001b[0;31m:\u001b[0m invalid syntax\n"
     ]
    }
   ],
   "source": [
    "# import package for plotting\n",
    "import matplotlib.pyplot as plt\n",
    "# average each row of Stim\n",
    "STA = \n",
    "# Setting time vector\n",
    "time = np.arange(-300,0,2)\n",
    "plt.figure()\n",
    "plt.plot(time, STA)\n",
    "plt.ylabel('Average horizontal velocity of dots');\n",
    "plt.xlabel('time in ms');"
   ]
  },
  {
   "cell_type": "markdown",
   "metadata": {},
   "source": [
    "In 3-5 sentences, describe what the shape and time course fo the STA is telling you"
   ]
  },
  {
   "cell_type": "code",
   "execution_count": 5,
   "metadata": {},
   "outputs": [],
   "source": [
    "# Answer:"
   ]
  },
  {
   "cell_type": "markdown",
   "metadata": {},
   "source": [
    "***\n",
    "### Guassian White Noise vs Retinal Ganglion Cell:\n",
    "\n",
    "Now that you have learned how to apply reverse correlation to determine the average stimuli before a spike in a fly's H1 neuron, we are going to move on to a new data set.\n",
    "\n",
    "The ganglion.mat in the lab contains responses from the cat retinal ganglion cell (RGC) to two-dimensional images of Gaussian white noise. To read more about the dataset, see Kara, Reinagel & Reid (2000) *Neuron*. There are two enclosed objects: *counts* is a vector showing the number of spikes in each 15.6 ms time bin, and *stim* contains 16x16 pixel random images that were shown at the corresponding times. In other words, stim(x,y,t) represents the pixel presented at coordinate (x,y) at time t.\n",
    "\n",
    "To get an idea of what these images look like, write a for-loop which visualizes the first 10 images in a subplot with 2 rows and 5 columns."
   ]
  },
  {
   "cell_type": "code",
   "execution_count": 4,
   "metadata": {},
   "outputs": [
    {
     "ename": "NameError",
     "evalue": "name 'sio' is not defined",
     "output_type": "error",
     "traceback": [
      "\u001b[0;31m---------------------------------------------------------------------------\u001b[0m",
      "\u001b[0;31mNameError\u001b[0m                                 Traceback (most recent call last)",
      "\u001b[0;32m<ipython-input-4-d537dc321680>\u001b[0m in \u001b[0;36m<module>\u001b[0;34m()\u001b[0m\n\u001b[1;32m      2\u001b[0m \u001b[0;32mimport\u001b[0m \u001b[0mnumpy\u001b[0m \u001b[0;32mas\u001b[0m \u001b[0mnp\u001b[0m\u001b[0;34m\u001b[0m\u001b[0m\n\u001b[1;32m      3\u001b[0m \u001b[0;31m# create arrays\u001b[0m\u001b[0;34m\u001b[0m\u001b[0;34m\u001b[0m\u001b[0m\n\u001b[0;32m----> 4\u001b[0;31m \u001b[0mganglion\u001b[0m \u001b[0;34m=\u001b[0m \u001b[0msio\u001b[0m\u001b[0;34m.\u001b[0m\u001b[0mloadmat\u001b[0m\u001b[0;34m(\u001b[0m\u001b[0;34m'ganglion.mat'\u001b[0m\u001b[0;34m)\u001b[0m\u001b[0;34m\u001b[0m\u001b[0m\n\u001b[0m\u001b[1;32m      5\u001b[0m \u001b[0mcounts\u001b[0m \u001b[0;34m=\u001b[0m \u001b[0mganglion\u001b[0m\u001b[0;34m[\u001b[0m\u001b[0;34m'counts'\u001b[0m\u001b[0;34m]\u001b[0m\u001b[0;34m\u001b[0m\u001b[0m\n\u001b[1;32m      6\u001b[0m \u001b[0mstim\u001b[0m \u001b[0;34m=\u001b[0m \u001b[0mganglion\u001b[0m\u001b[0;34m[\u001b[0m\u001b[0;34m'stim'\u001b[0m\u001b[0;34m]\u001b[0m\u001b[0;34m\u001b[0m\u001b[0m\n",
      "\u001b[0;31mNameError\u001b[0m: name 'sio' is not defined"
     ]
    }
   ],
   "source": [
    "# Import packages\n",
    "import numpy as np\n",
    "# create arrays\n",
    "ganglion = sio.loadmat('ganglion.mat')\n",
    "counts = ganglion['counts']\n",
    "stim = ganglion['stim']\n",
    "\n",
    "# Setting up plotting structure\n",
    "plt.figure()\n",
    "plt.subplots(nrows=2,ncols=10,figsize=(10,3))\n",
    "# For-loop to plot images\n",
    "for i in range():\n",
    "    plt.subplot(2,5,i+1)\n",
    "    plt.imshow()"
   ]
  },
  {
   "cell_type": "markdown",
   "metadata": {},
   "source": [
    "Now, visualize the average across of all of the images in the cell below to demonstrate why we will need to why the images by how many spikes they elicit.\n",
    "\n",
    "Challenge: Do it in one line."
   ]
  },
  {
   "cell_type": "code",
   "execution_count": 5,
   "metadata": {},
   "outputs": [],
   "source": [
    "# Your code here"
   ]
  },
  {
   "cell_type": "markdown",
   "metadata": {},
   "source": [
    "In the cell below, write a brief explanation for why the above photo is blank."
   ]
  },
  {
   "cell_type": "code",
   "execution_count": null,
   "metadata": {},
   "outputs": [],
   "source": [
    "# Answer:"
   ]
  },
  {
   "cell_type": "markdown",
   "metadata": {},
   "source": [
    "Next, calculate the spike-triggered average of the images in the set occuring at each spike. Note that there can be more than one spike in each time bin, so the STA must be computed by weighing each image by the number of spikes elicited in the corresponding time bin. Visualize the results using the **_plt.imshow()_** function."
   ]
  },
  {
   "cell_type": "code",
   "execution_count": 3,
   "metadata": {},
   "outputs": [
    {
     "ename": "IndentationError",
     "evalue": "expected an indented block (<ipython-input-3-5f116ff85ffa>, line 26)",
     "output_type": "error",
     "traceback": [
      "\u001b[0;36m  File \u001b[0;32m\"<ipython-input-3-5f116ff85ffa>\"\u001b[0;36m, line \u001b[0;32m26\u001b[0m\n\u001b[0;31m    plt.figure()\u001b[0m\n\u001b[0m      ^\u001b[0m\n\u001b[0;31mIndentationError\u001b[0m\u001b[0;31m:\u001b[0m expected an indented block\n"
     ]
    }
   ],
   "source": [
    "# Import packages\n",
    "import numpy as np\n",
    "# create arrays\n",
    "ganglion = sio.loadmat('ganglion.mat')\n",
    "counts = ganglion['counts']\n",
    "stim = ganglion['stim']\n",
    "\n",
    "# find spikes\n",
    "\n",
    "# initialize data structures\n",
    "imStor = np.zeros()\n",
    "imFin = np.zeros()\n",
    "\n",
    "# loop through time bins and find image index of spike\n",
    "# Grab images for each spike and multiply them by the number of spikes in the corresponding time bin\n",
    "for i in range():\n",
    "    # Find number of spikes\n",
    "\n",
    "    # Find corresponding image\n",
    "    \n",
    "    # Store the wieghed image\n",
    "\n",
    "# Calculate the average image\n",
    "\n",
    "# Plot the image\n",
    "plt.figure()\n",
    "plt.imshow()"
   ]
  },
  {
   "cell_type": "markdown",
   "metadata": {},
   "source": [
    "The above image represents average image of what was shown the cat at the time of the spike. However, it could also be interesting to know what images were shown to the cat besides the one occuring at simulaneously as the spike. Calculate the STA for 12 time bins before the spike to visualize the 12 images the cat saw before a spike on average.  "
   ]
  },
  {
   "cell_type": "code",
   "execution_count": 2,
   "metadata": {},
   "outputs": [
    {
     "ename": "SyntaxError",
     "evalue": "invalid syntax (<ipython-input-2-6489050418bc>, line 11)",
     "output_type": "error",
     "traceback": [
      "\u001b[0;36m  File \u001b[0;32m\"<ipython-input-2-6489050418bc>\"\u001b[0;36m, line \u001b[0;32m11\u001b[0m\n\u001b[0;31m    imSpikes =\u001b[0m\n\u001b[0m               ^\u001b[0m\n\u001b[0;31mSyntaxError\u001b[0m\u001b[0;31m:\u001b[0m invalid syntax\n"
     ]
    }
   ],
   "source": [
    "# Import packages\n",
    "import numpy as np\n",
    "# create arrays\n",
    "ganglion = sio.loadmat('ganglion.mat')\n",
    "counts = ganglion['counts']\n",
    "stim = ganglion['stim']\n",
    "\n",
    "# find spikes\n",
    "\n",
    "# Index imSpikes so the values must be bigger than 11\n",
    "imSpikes = \n",
    "\n",
    "# initialize data structures\n",
    "imStor = np.zeros()\n",
    "imFin = np.zeros()\n",
    "\n",
    "# Initializing plotting structure\n",
    "plt.figure()\n",
    "plt.subplots(nrows=3,ncols=4)\n",
    "# loop through time bins and find image index of spike\n",
    "for t in range():\n",
    "    # Grab images for each spike and multiply them by the number of spikes\n",
    "    for i in range():\n",
    "        # Find number of spikes\n",
    "\n",
    "        # Find corresponding image\n",
    "\n",
    "        # Store the wieghed image\n",
    "\n",
    "    # Store the averages of imStore in imFin\n",
    "    imFin[:,:,11-t] = \n",
    "    # Plot the images\n",
    "    plt.subplot(3,4,12-t)\n",
    "    plt.imshow(imFin[:,:,11-t], filternorm=True)"
   ]
  },
  {
   "cell_type": "markdown",
   "metadata": {},
   "source": [
    "In 3-5 sentences, describe what you are seeing in the cell's response over time. Recall the types of receptive fields in RGC. What type of neuron does this seem to be?"
   ]
  },
  {
   "cell_type": "code",
   "execution_count": 164,
   "metadata": {},
   "outputs": [],
   "source": [
    "# Answer:"
   ]
  },
  {
   "cell_type": "markdown",
   "metadata": {},
   "source": [
    "Sum across one of the spatial dimensions to produce a space-time receptive field for this neuron. Use the **_plt.imshow()_** function to visualize the result. Does this single image provide you with the description that you gave above? Why or why not?"
   ]
  },
  {
   "cell_type": "code",
   "execution_count": 1,
   "metadata": {},
   "outputs": [],
   "source": [
    "# Your code here\n",
    "\n",
    "# Answer:"
   ]
  },
  {
   "cell_type": "markdown",
   "metadata": {},
   "source": [
    "***\n",
    "### Line Orientation vs V1 Neuron\n",
    "\n",
    "For the next part of this lab, you will be looking at the response of a ferret's V1 neuron to parallel lines accross it's entire receptive field. \n",
    "\n",
    "Using the **sio.loadmat**(_'file'_) function, load the V1Orientation.mat file. Within the .mat file there is a 3-dimenisional matrix saved as *spikes*. The first dimension describes the stimulus condition: 1-16 represent stimulus orientation between 0-337.5 degrees in 22.5 degree increments, starting at 0. 17 and 18 are blank control conditions where a uniform gray background was presented. \n",
    "\n",
    "The second dimension represents the spike trial (sampled at $1000 Hz$). This dimension is a binary vector in which 1 represents a spike being fired. In this experiment, the grating was turned on at $t=0$, the grating began moving at $500 ms$, and the stimulus was turned off at $2500 ms$. \n",
    "\n",
    "The third dimension represents trial repetitions.\n",
    "\n",
    "Create a for-loop which scatter plots the spikes in each trial for the 22.5 degree line orientation.\n",
    "\n",
    "Hint: Weigh each spike trial by their trial number so they are plotted on different levels in your graph."
   ]
  },
  {
   "cell_type": "code",
   "execution_count": 7,
   "metadata": {},
   "outputs": [
    {
     "ename": "NameError",
     "evalue": "name 'sio' is not defined",
     "output_type": "error",
     "traceback": [
      "\u001b[0;31m---------------------------------------------------------------------------\u001b[0m",
      "\u001b[0;31mNameError\u001b[0m                                 Traceback (most recent call last)",
      "\u001b[0;32m<ipython-input-7-b8176ab62313>\u001b[0m in \u001b[0;36m<module>\u001b[0;34m()\u001b[0m\n\u001b[1;32m      1\u001b[0m \u001b[0;31m# Loading data\u001b[0m\u001b[0;34m\u001b[0m\u001b[0;34m\u001b[0m\u001b[0m\n\u001b[0;32m----> 2\u001b[0;31m \u001b[0mV1Orientation\u001b[0m \u001b[0;34m=\u001b[0m \u001b[0msio\u001b[0m\u001b[0;34m.\u001b[0m\u001b[0mloadmat\u001b[0m\u001b[0;34m(\u001b[0m\u001b[0;34m'V1Orientation.mat'\u001b[0m\u001b[0;34m)\u001b[0m\u001b[0;34m\u001b[0m\u001b[0m\n\u001b[0m\u001b[1;32m      3\u001b[0m \u001b[0;34m\u001b[0m\u001b[0m\n\u001b[1;32m      4\u001b[0m \u001b[0;31m# Defining spikes\u001b[0m\u001b[0;34m\u001b[0m\u001b[0;34m\u001b[0m\u001b[0m\n\u001b[1;32m      5\u001b[0m \u001b[0mspikes\u001b[0m \u001b[0;34m=\u001b[0m \u001b[0mV1Orientation\u001b[0m\u001b[0;34m[\u001b[0m\u001b[0;34m'spikes'\u001b[0m\u001b[0;34m]\u001b[0m\u001b[0;34m\u001b[0m\u001b[0m\n",
      "\u001b[0;31mNameError\u001b[0m: name 'sio' is not defined"
     ]
    }
   ],
   "source": [
    "# Loading data\n",
    "V1Orientation = sio.loadmat('V1Orientation.mat')\n",
    "\n",
    "# Defining spikes\n",
    "spikes = V1Orientation['spikes']\n",
    "\n",
    "# Initializing data structures\n",
    "rasterMat = np.zeros();\n",
    "\n",
    "# Time vector to plot with the spikes\n",
    "time = np.arange(0,3500,1)\n",
    "\n",
    "# Variable to weigh each trial\n",
    "trial = 1\n",
    "# Loop for plotting the spikes of each trial.\n",
    "for i in range():\n",
    "    # Weigh spikes by their trial number\n",
    "    \n",
    "    # Dropping all zeros\n",
    "    rasterMat[rasterMat == 0] = np.nan\n",
    "    \n",
    "    # Plotting the x and spike vectors  \n",
    "    plt.scatter(time,rasterMat[i,:],s=2,c='k')\n",
    "    plt.xlabel('time (ms)')\n",
    "    plt.ylabel('trials')\n",
    "    \n",
    "    trial = trial + 1"
   ]
  },
  {
   "cell_type": "markdown",
   "metadata": {},
   "source": [
    "The above figure is called a raster plot and is used in the neuroscience field to study the response of a neuron to certain stimuli.\n",
    "\n",
    "In 3-4 sentences, describe what you see. Does the neuron appear to be excited or inhibited by this orientation? How can you tell?"
   ]
  },
  {
   "cell_type": "code",
   "execution_count": 209,
   "metadata": {},
   "outputs": [],
   "source": [
    "# Answer:"
   ]
  },
  {
   "cell_type": "markdown",
   "metadata": {},
   "source": [
    "Compute the average firing rate (Hz) for the two control conditions, and subtract this baseline from the average of each of the 16 experimental oreintation conditions. Plot the average firing rate as a function of orientation to reveal this neuron's tuning curve."
   ]
  },
  {
   "cell_type": "code",
   "execution_count": 9,
   "metadata": {},
   "outputs": [
    {
     "ename": "IndentationError",
     "evalue": "expected an indented block (<ipython-input-9-b358104070ae>, line 12)",
     "output_type": "error",
     "traceback": [
      "\u001b[0;36m  File \u001b[0;32m\"<ipython-input-9-b358104070ae>\"\u001b[0;36m, line \u001b[0;32m12\u001b[0m\n\u001b[0;31m    controlRate1 =\u001b[0m\n\u001b[0m               ^\u001b[0m\n\u001b[0;31mIndentationError\u001b[0m\u001b[0;31m:\u001b[0m expected an indented block\n"
     ]
    }
   ],
   "source": [
    "# Initializing data structures:\n",
    "control_1 = np.zeros()\n",
    "control_2 = np.zeros()\n",
    "spikeNum = np.zeros()\n",
    "firingRate = np.zeros()\n",
    "\n",
    "# Loop through control conditions:\n",
    "for i in range():\n",
    "    # Sum spikes for each trial\n",
    "\n",
    "# Calculate the firing rate of control:\n",
    "controlRate1 =  \n",
    "controlRate2 =  \n",
    "\n",
    "# Calculate baseline:\n",
    "baseline = \n",
    "\n",
    "# Loop through the 16 line orientations:\n",
    "for j in range():\n",
    "    # Loop through each of the 30 trials\n",
    "    for i in range():\n",
    "        # Calculate the number of spikes\n",
    "        \n",
    "    # Caclculate average firing rate\n",
    "\n",
    "# subtracting baseline from firing rate of each 16 trials\n",
    "newRate = \n",
    "\n",
    "# plotting tuning curve\n",
    "plt.figure(2)\n",
    "plt.plot(newRate)"
   ]
  },
  {
   "cell_type": "markdown",
   "metadata": {},
   "source": [
    "Compute the 95% confidence interval for each orientation to show the variability over trial orientations. Plot these as error bars in your plot.\n"
   ]
  },
  {
   "cell_type": "code",
   "execution_count": 8,
   "metadata": {},
   "outputs": [
    {
     "ename": "IndentationError",
     "evalue": "expected an indented block (<ipython-input-8-7cf26cf75f10>, line 13)",
     "output_type": "error",
     "traceback": [
      "\u001b[0;36m  File \u001b[0;32m\"<ipython-input-8-7cf26cf75f10>\"\u001b[0;36m, line \u001b[0;32m13\u001b[0m\n\u001b[0;31m    x = np.arange(16)\u001b[0m\n\u001b[0m    ^\u001b[0m\n\u001b[0;31mIndentationError\u001b[0m\u001b[0;31m:\u001b[0m expected an indented block\n"
     ]
    }
   ],
   "source": [
    "# t_score is given for 95% confidence interval\n",
    "t_score = 2.045\n",
    "# Initializing data structure\n",
    "error = np.zeros()\n",
    "\n",
    "# For-loop to calculate STD and store error for each line orientation\n",
    "for i in range():\n",
    "    # Calculate STD\n",
    "    \n",
    "    # Calculate and store error\n",
    "\n",
    "# Setting xAxis\n",
    "x = np.arange(16)\n",
    "# Setting y values\n",
    "y = newRate[:]\n",
    "# Plotting\n",
    "plt.figure(2)\n",
    "plt.errorbar(x,y,yerr=error,capsize=5)"
   ]
  },
  {
   "cell_type": "markdown",
   "metadata": {},
   "source": [
    "### Hacker Set\n",
    "\n",
    "In Gosselin & Schyns (2003) *Psychological Science* participants were shown Gaussian white noise images and told that occasionally, a low-contrast letter S was embeddd within it. After viewing 15,000 images and occasionally \"seeing\" a letter S, the average image for one observer is shown on the left. It was blurred and thresholded to be seen more clearly on the right.\n",
    "\n",
    "<img src=\"image1.png\" alt=\"drawing\" width=\"200\"/>\n",
    "\n",
    "Simulate this experiment using an image of a human face in face.jpg. Create 15,000 Guassian white noise images. Correlate each image with the face image. If the correlation is above a threshold of your choosing, save the face template. In cognitive psychology, this analog to reverse correlation is known as a \"classification image\"\n",
    "\n",
    "<img src=\"face.jpg\" alt=\"drawing\" width=\"200\"/>"
   ]
  },
  {
   "cell_type": "code",
   "execution_count": 10,
   "metadata": {},
   "outputs": [
    {
     "ename": "IndentationError",
     "evalue": "expected an indented block (<ipython-input-10-4147a7b62a5a>, line 21)",
     "output_type": "error",
     "traceback": [
      "\u001b[0;36m  File \u001b[0;32m\"<ipython-input-10-4147a7b62a5a>\"\u001b[0;36m, line \u001b[0;32m21\u001b[0m\n\u001b[0;31m    avg_im =\u001b[0m\n\u001b[0m             ^\u001b[0m\n\u001b[0;31mIndentationError\u001b[0m\u001b[0;31m:\u001b[0m expected an indented block\n"
     ]
    }
   ],
   "source": [
    "# Import function to find the correlation between 2 matrices\n",
    "from Correlation import corr2\n",
    "# Load in the image\n",
    "faceMat = plt.imread('face.jpg')\n",
    "# Initialize data structures\n",
    "rand_im = np.zeros()\n",
    "corrVec = np.zeros()\n",
    "imageID = np.zeros()\n",
    "# Initialize counter\n",
    "count = 0\n",
    "# For-loop to generate guassian images and correlate them with faceMat\n",
    "for i in range(15000):\n",
    "    # Calculate random image and store in rand_im\n",
    "    \n",
    "    # Calculate correlation and store in corrVec\n",
    "    \n",
    "    # Conditional to save higher correlated images to imageID\n",
    "    if corrVec[i] > 0.025:\n",
    "\n",
    "# Calculate average of saved images\n",
    "avg_im = \n",
    "plt.figure()\n",
    "plt.imshow(avg_im)"
   ]
  },
  {
   "cell_type": "code",
   "execution_count": null,
   "metadata": {},
   "outputs": [],
   "source": []
  }
 ],
 "metadata": {
  "kernelspec": {
   "display_name": "Python 3",
   "language": "python",
   "name": "python3"
  },
  "language_info": {
   "codemirror_mode": {
    "name": "ipython",
    "version": 3
   },
   "file_extension": ".py",
   "mimetype": "text/x-python",
   "name": "python",
   "nbconvert_exporter": "python",
   "pygments_lexer": "ipython3",
   "version": "3.6.3"
  }
 },
 "nbformat": 4,
 "nbformat_minor": 2
}
