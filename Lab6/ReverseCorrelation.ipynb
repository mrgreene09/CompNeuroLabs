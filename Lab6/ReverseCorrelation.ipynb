{
 "cells": [
  {
   "cell_type": "markdown",
   "metadata": {},
   "source": [
    "## <span style=\"color:red\">Reverse Correlation and Receptive Field Mapping</span>\n",
    "\n",
    "Reverse correlation is a technique for studying how sensory neurons respond to various stimuli, in order to understand the relationship between stimulus and neural response. Many neurons are driven by sensory stimulation from the outside world and is in a baseline state in the absence of that stimulation. When presented with an appropriate stimulus, the neuron is either activated above its baseline state of activity or in some cases suppressed below it's baseline. The degree of activation is captured in the neuron's firing rate.\n",
    "\n",
    "The H1.mat file in this lab contains data collected from de Ruyter van Stevenick from a fly's H1 visual neuron responding to a white noise visual motion. Data were sampled at 500 Hz (in other words, $\\Delta t = 2ms$). \n",
    "\n",
    "Within the file, $rho$ is a boolean vector indicating spike times (1 = spike, 0 = no spike), and $stim$ indicates the intensity of the stimulus (in this case, the horizontal speed of moving dots).\n",
    "\n",
    "<img src=\"image2.gif\" alt=\"drawing\" width=\"400\"/>\n",
    "\n",
    "The fly has two H1 neurons, one in each hemisphere, and they are located in the Lobula plate in the diagram above. These neurons are very large making them easy to record from. Why are they called H1 neurons? Because they detect movement in the horizontal direction! We're going to prove this in the first problem!\n",
    "\n",
    "Compute the spike-triggered average over the range from 0 to 300 ms (inclusive). Create a plot with appropriate labels on the x and y axis."
   ]
  },
  {
   "cell_type": "code",
   "execution_count": 2,
   "metadata": {},
   "outputs": [],
   "source": [
    "# Run this block of code to load the dataset: no alterations are necessary\n",
    "import scipy.io as sio\n",
    "H1 = sio.loadmat('H1.mat')\n",
    "rho = H1['rho']\n",
    "stim = H1['stim']\n",
    "\n",
    "# Making them one dimensional to do further calculations\n",
    "rho = rho[:,0]\n",
    "stim = stim[:,0]"
   ]
  },
  {
   "cell_type": "code",
   "execution_count": 3,
   "metadata": {},
   "outputs": [],
   "source": [
    "# import helpful packages\n",
    "import matplotlib.pyplot as plt\n",
    "import numpy as np\n",
    "\n",
    "# find spikes using np.nonzero()\n",
    "\n",
    "\n",
    "# Drop spikes occuring within the first 150 time points\n",
    "\n",
    "\n",
    "# pre-allocate memory: (hint: # spikes x 300 ms matrix)\n",
    "Stim = np.zeros()\n",
    "\n",
    "# loop through matrix and store 300 ms of stimulus before each spike\n",
    "for i in range(len(spikes)):\n",
    "    Stim[i,:] = \n",
    "\n",
    "# average across each row of stim to create STA\n",
    "STA = \n",
    "\n",
    "# plot the results\n",
    "time = np.arange(-300, 0, 2)\n",
    "plt.figure()\n",
    "plt.plot(time, STA)\n",
    "plt.ylabel('Average horizontal velocity of dots (degrees/second)');\n",
    "plt.xlabel('Time (ms) before spike');"
   ]
  },
  {
   "cell_type": "markdown",
   "metadata": {},
   "source": [
    "In 3-5 sentences, describe what the shape and time course fo the STA is telling you"
   ]
  },
  {
   "cell_type": "code",
   "execution_count": 5,
   "metadata": {},
   "outputs": [],
   "source": [
    "# Answer:"
   ]
  },
  {
   "cell_type": "markdown",
   "metadata": {},
   "source": [
    "***\n",
    "### Gaussian White Noise and Cat Retinal Ganglion Cell:\n",
    "\n",
    "Now that you have learned how to apply reverse correlation to determine the average stimulus before a spike in a fly's H1 neuron, we are going to move on to a new data set.\n",
    "\n",
    "The ganglion.mat file contains responses from the cat retinal ganglion cell (RGC) to two-dimensional images of Gaussian white noise. To read more about the dataset, see Kara, Reinagel & Reid (2000) *Neuron*. There are two enclosed objects: *counts* is a vector showing the number of spikes in each 15.6 ms time bin, and *stim* contains the 16x16 pixel random images that were shown at the corresponding times. In other words, stim(x,y,t) represents the pixel presented at coordinate (x,y) at time t.\n",
    "\n",
    "To get an idea of what these images look like, write a for-loop which visualizes the first 10 images in a subplot with 2 rows and 5 columns."
   ]
  },
  {
   "cell_type": "code",
   "execution_count": 1,
   "metadata": {},
   "outputs": [],
   "source": [
    "# Run this block of code to load the dataset: no alterations are necessary\n",
    "import scipy.io as sio\n",
    "ganglion = sio.loadmat('ganglion.mat')\n",
    "counts = ganglion['counts']\n",
    "stim = ganglion['stim']"
   ]
  },
  {
   "cell_type": "code",
   "execution_count": null,
   "metadata": {},
   "outputs": [],
   "source": [
    "# Import packages\n",
    "import numpy as np\n",
    "import matplotlib.pyplot as plt\n",
    "\n",
    "# Setting up plotting structure\n",
    "plt.figure()\n",
    "plt.subplots(nrows=2,ncols=10,figsize=(10,3))\n",
    "# For-loop to plot images\n",
    "for i in range():\n",
    "    plt.subplot(2,5,i+1)\n",
    "    plt.imshow()"
   ]
  },
  {
   "cell_type": "markdown",
   "metadata": {},
   "source": [
    "Now, visualize the average across of all of the images in the cell below to demonstrate why we will need to sort the images by how many spikes they elicit.\n",
    "\n",
    "Challenge: Do it without using a *for* loop."
   ]
  },
  {
   "cell_type": "code",
   "execution_count": 5,
   "metadata": {},
   "outputs": [],
   "source": [
    "# Your code here"
   ]
  },
  {
   "cell_type": "markdown",
   "metadata": {},
   "source": [
    "In the cell below, write a brief explanation for why the above photo is blank."
   ]
  },
  {
   "cell_type": "code",
   "execution_count": null,
   "metadata": {},
   "outputs": [],
   "source": [
    "# Answer:"
   ]
  },
  {
   "cell_type": "markdown",
   "metadata": {},
   "source": [
    "Next, calculate the spike-triggered average of the images in the set occuring at each spike. Note that there can be more than one spike in each time bin, so the STA must be computed by weighing each image by the number of spikes elicited in the corresponding time bin. Visualize the results using the **_plt.imshow()_** function."
   ]
  },
  {
   "cell_type": "code",
   "execution_count": null,
   "metadata": {},
   "outputs": [],
   "source": [
    "# Import packages\n",
    "import numpy as np\n",
    "import scipy.io as sio\n",
    "import matplotlib.pyplot as plt\n",
    "\n",
    "# create arrays\n",
    "ganglion = sio.loadmat('ganglion.mat')\n",
    "counts = ganglion['counts']\n",
    "stim = ganglion['stim']\n",
    "\n",
    "# find spikes\n",
    "\n",
    "# initialize data structures\n",
    "imStore = np.zeros()\n",
    "imFinal = np.zeros()\n",
    "\n",
    "# loop through time bins and find image index of spike\n",
    "# Grab image at each spike time and multiply it by the number of spikes in the corresponding time bin\n",
    "for i in range():\n",
    "    # Find number of spikes\n",
    "\n",
    "    # Find corresponding image\n",
    "    \n",
    "    # Store the weighted image in imStore\n",
    "\n",
    "# Calculate the average image\n",
    "imFinal = \n",
    "\n",
    "# Plot the image\n",
    "plt.figure()\n",
    "plt.imshow()"
   ]
  },
  {
   "cell_type": "markdown",
   "metadata": {},
   "source": [
    "The above image represents average image of what was shown the cat at the time of the spike. However, there may be aspects to the receptive field that emerge before the spike. Calculate the STA for the time bin immediately before each spike and visualize as before. "
   ]
  },
  {
   "cell_type": "code",
   "execution_count": null,
   "metadata": {},
   "outputs": [],
   "source": [
    "# Your code here"
   ]
  },
  {
   "cell_type": "markdown",
   "metadata": {},
   "source": [
    "In 3-5 sentences, describe what you are seeing in the cell's response over time. Recall the types of receptive fields of retinal ganglion cells. What type of neuron does this seem to be?"
   ]
  },
  {
   "cell_type": "code",
   "execution_count": 164,
   "metadata": {},
   "outputs": [],
   "source": [
    "# Answer:"
   ]
  },
  {
   "cell_type": "markdown",
   "metadata": {},
   "source": [
    "***\n",
    "### Orientation Preference in V1 Neuron\n",
    "\n",
    "For the next part of this lab, you will be looking at the response of a ferret's V1 neuron to full-field drifting gratings (moving stripes of various orientations), and was provided by the Sur lab at MIT.\n",
    "\n",
    "Use the provided code to load V1Orientation.mat using the **sio.loadmat**(_'file'_) function. Within the .mat file there is a 3-dimenisional matrix called *spikes*. The first dimension describes the stimulus condition: 1-16 represent stimulus orientation between 0-337.5 degrees in 22.5 degree increments, starting at 0. 17 and 18 are blank control conditions where a uniform gray background was presented. \n",
    "\n",
    "The second dimension represents the spike train over time (sampled at $1000 Hz$). This dimension is a binary vector in which 1 represents a spike being fired. In this experiment, the grating was turned on at $t=0$, the grating began moving at $500 ms$, and the stimulus was turned off at $2500 ms$. Each trial lasted 3500 ms (3.5 s).\n",
    "\n",
    "The third dimension represents trial repetitions (n=30 per orientation).\n",
    "\n",
    "Create a for-loop that creates a scatter plot of the spikes in each trial for the 22.5 degree line orientation.\n",
    "\n",
    "Hint: Weigh each spike train by its trial number so they are plotted on different levels in your graph."
   ]
  },
  {
   "cell_type": "code",
   "execution_count": null,
   "metadata": {},
   "outputs": [],
   "source": [
    "# Loading data\n",
    "V1Orientation = sio.loadmat('V1Orientation.mat')\n",
    "spikes = V1Orientation['spikes']\n",
    "\n",
    "# Initializing data structures\n",
    "rasterMat = np.zeros();\n",
    "\n",
    "# Extract out the correct orientation\n",
    "thisData = \n",
    "\n",
    "# Time vector to plot with the spikes\n",
    "time = np.arange(0,3500,1)\n",
    "\n",
    "# Variable to weigh each trial\n",
    "trial = 0\n",
    "\n",
    "# Loop for plotting the spikes of each trial.\n",
    "for i in range():\n",
    "    trial += 1\n",
    "    \n",
    "    # Find the spike times for each trial\n",
    "    spikeTimes = \n",
    "    \n",
    "    # Weigh spikes by their trial number\n",
    "    theseSpikes = \n",
    "\n",
    "    # Plotting the x and spike vectors  \n",
    "    plt.scatter(spikeTimes, theseSpikes, s=2, c='k')\n",
    "\n",
    "plt.xlabel('Time (ms)')\n",
    "plt.ylabel('Trial number')\n",
    "    "
   ]
  },
  {
   "cell_type": "markdown",
   "metadata": {},
   "source": [
    "This raster plot allows us to see how the neuron responds to this particular orientation, and how reliable this response is over repeated presentations.\n",
    "\n",
    "In 3-4 sentences, describe what you see. Does the neuron appear to be excited or inhibited by this orientation? How can you tell?"
   ]
  },
  {
   "cell_type": "code",
   "execution_count": 209,
   "metadata": {},
   "outputs": [],
   "source": [
    "# Answer:"
   ]
  },
  {
   "cell_type": "markdown",
   "metadata": {},
   "source": [
    "Compute the average firing rate (Hz) for the two control conditions, and subtract this baseline from the average of each of the 16 experimental oreintation conditions. Plot the average firing rate as a function of orientation to reveal this neuron's tuning curve."
   ]
  },
  {
   "cell_type": "code",
   "execution_count": null,
   "metadata": {},
   "outputs": [],
   "source": [
    "# Loading data\n",
    "V1Orientation = sio.loadmat('V1Orientation.mat')\n",
    "spikes = V1Orientation['spikes']\n",
    "\n",
    "# parse out the two control conditions (hint: you only need times when stimulus was on)\n",
    "control1 = \n",
    "control2 = \n",
    "\n",
    "# compute the mean firing rate for each condition and trial\n",
    "\n",
    "# compute the mean firing rate for the two control conditions\n",
    "\n",
    "# Initialize matrix where rates for experimental conditions will be stored\n",
    "rateMat = np.zeros((30, 16))\n",
    "\n",
    "# loop through each of the 16 experimental conditions\n",
    "for i in range():\n",
    "    # define the current condition\n",
    "    \n",
    "    # compute rate for the ith orientation\n",
    "\n",
    "    # store in rateMate rate for each trial with control rate subtracted\n",
    "    rateMat[] = \n",
    "\n",
    "\n",
    "orientations = np.arange()\n",
    "meanRate = \n",
    "plt.figure()\n",
    "plt.plot(orientations, meanRate)\n",
    "plt.xlabel('Stimulus orientation (degrees)')\n",
    "plt.ylabel('Firing rate (Hz)')"
   ]
  },
  {
   "cell_type": "markdown",
   "metadata": {},
   "source": [
    "Does the cell have a preferred orientation? If so, what is it? If you observe multiple peaks in the tuning function, comment on why this is the case."
   ]
  },
  {
   "cell_type": "code",
   "execution_count": null,
   "metadata": {},
   "outputs": [],
   "source": [
    "# Answer:"
   ]
  },
  {
   "cell_type": "markdown",
   "metadata": {},
   "source": [
    "Compute the 95% confidence interval for each orientation to show the variability over trial orientations. Plot these as error bars in your plot.\n"
   ]
  },
  {
   "cell_type": "code",
   "execution_count": null,
   "metadata": {},
   "outputs": [],
   "source": [
    "# t_score is given for 95% confidence interval\n",
    "t_score = 2.045\n",
    "\n",
    "# Initializing data structure\n",
    "error = np.zeros()\n",
    "\n",
    "# For-loop to calculate standard deviation and store confidence interval for each line orientation\n",
    "for i in range():\n",
    "    # Calculate standard deviation\n",
    "    \n",
    "    # Calculate and store error\n",
    "\n",
    "# Setting xAxis\n",
    "orientation = np.arange()\n",
    "# Setting y values\n",
    "meanRate = \n",
    "\n",
    "# Plotting\n",
    "plt.figure(2)\n",
    "plt.errorbar(orientation, meanRate, yerr=error, capsize=5)"
   ]
  },
  {
   "cell_type": "markdown",
   "metadata": {},
   "source": [
    "### Moving from Neurons to Behavior\n",
    "\n",
    "In Gosselin & Schyns (2003) *Psychological Science* participants were shown Gaussian white noise images and told that occasionally, a low-contrast letter S was embeddd within them. After viewing 15,000 images (!!) and occasionally \"seeing\" a letter S, the average image for one observer is shown on the left. It was blurred and thresholded to be seen more clearly on the right.\n",
    "\n",
    "<img src=\"image1.png\" alt=\"drawing\" width=\"200\"/>\n",
    "\n",
    "Simulate this experiment using an image of a human face in face.jpg. Create 15,000 Guassian white noise images. Correlate each image with the face image. If the correlation is above the threshold given below, save the noise image. Average all of the chosen images. In cognitive psychology, this analog to reverse correlation is known as a \"classification image\"\n",
    "\n",
    "<img src=\"face.jpg\" alt=\"drawing\" width=\"200\"/>"
   ]
  },
  {
   "cell_type": "code",
   "execution_count": null,
   "metadata": {},
   "outputs": [],
   "source": [
    "# Load in the image\n",
    "faceMat = plt.imread('face.jpg')\n",
    "\n",
    "# Define face vector (turns from 64x64 to 4096,)\n",
    "faceVec = np.ravel(faceMat)\n",
    "\n",
    "# Initialize counter\n",
    "count = -1\n",
    "\n",
    "# Initialize data structure\n",
    "chosenImage = np.zeros()\n",
    "\n",
    "# For-loop to generate Gaussian white noise images and correlate them with faceMat\n",
    "for i in range(15000):\n",
    "    # Create random image using np.random.normal()\n",
    "    randImage = \n",
    "    \n",
    "    # Use this line to turn from 64x64 to 4096,\n",
    "    imageVector = np.ravel(randImage)\n",
    "    \n",
    "    # Calculate correlation using np.corrcoef\n",
    "    c = \n",
    "    thisCorr = c[0,1]\n",
    "    \n",
    "    # Conditional to save higher correlated images to chosenImages\n",
    "    if thisCorr > 0.025:\n",
    "        # Increment counter\n",
    "        \n",
    "        # Save in chosenImages\n",
    "        \n",
    "# Remove the zeros still in chosenImages\n",
    "        \n",
    "\n",
    "# Calculate average of saved images\n",
    "avg_im = \n",
    "plt.figure()\n",
    "plt.imshow(avg_im, cmap='gray')"
   ]
  },
  {
   "cell_type": "markdown",
   "metadata": {},
   "source": [
    "Great work! As always, please leave your "
   ]
  }
 ],
 "metadata": {
  "kernelspec": {
   "display_name": "Python 3",
   "language": "python",
   "name": "python3"
  },
  "language_info": {
   "codemirror_mode": {
    "name": "ipython",
    "version": 3
   },
   "file_extension": ".py",
   "mimetype": "text/x-python",
   "name": "python",
   "nbconvert_exporter": "python",
   "pygments_lexer": "ipython3",
   "version": "3.7.3"
  }
 },
 "nbformat": 4,
 "nbformat_minor": 2
}
