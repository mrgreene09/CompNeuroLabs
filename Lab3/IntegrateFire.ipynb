{
 "cells": [
  {
   "cell_type": "markdown",
   "metadata": {},
   "source": [
    "## <span style=\"color:red\">Integrate and Fire</span>\n",
    "\n",
    "The integrate-and-fire model is a representation of the *passive* properties of neuron. Recall from class that the standard membrane equation for a neuron is:\n",
    "\n",
    "\\begin{equation*}\n",
    "\\tau_m\\frac{dV}{dt} = {R_m}{I_e} + E - V\n",
    "\\end{equation*}\n",
    "\n",
    "Where:\n",
    "- $\\tau_m$ is the time constant.\n",
    "- $I_e$ is the current being injected .\n",
    "- $E$ is the resting potential.\n",
    "- $R_m$ is the membrane resistance.\n",
    "\n",
    "We can give the model some reasonable initial conditions. For example, we can state that at the beginning of the simulation $E = V$ (i.e. the membrane is at rest). At t=0, the solution is:\n",
    "\n",
    "\\begin{equation*}\n",
    "V_m = {R_m}{I_e}(1 - e^\\frac{-t}{\\tau}) + E\n",
    "\\end{equation*}\n",
    "\n",
    "And the rule for updating each subsequent $V_m$ is:\n",
    "\n",
    "\\begin{equation*}\n",
    "V(t + \\Delta t) = E + {R_m}{I_e}(t) + (V(t) - E - {R_m}{I_e}(t))e^\\frac{-\\Delta t}{\\tau}\n",
    "\\end{equation*}\n",
    "\n",
    "### Your mission:\n",
    "\n",
    "Implement a simulation of an integrate-and-fire neuron that is injected with varying levels of current. Run each simulation for 500 ms in time increments of 0.1 ms with the membrane starting at its resting potential of -70 mV, and the current pulse starting 100 ms into the simulation and continuing for 300 ms. Assume that the 1.52 nA current pulse is above threshold and will cause spiking. You may use the following parameter values for your simulation:\n",
    "\n",
    "\n",
    "\\begin{equation*}\n",
    "R_m = 10M\\Omega\n",
    "\\end{equation*}\n",
    "\\begin{equation*}\n",
    "\\tau_m = 10ms\n",
    "\\end{equation*}\n",
    "\\begin{equation*}\n",
    "V_{threshold} = -55mV\n",
    "\\end{equation*}\n",
    "\\begin{equation*}\n",
    "V_{reset} = -75mV\n",
    "\\end{equation*}\n",
    "\\begin{equation*}\n",
    "V_{spike} = +20mV\n",
    "\\end{equation*}\n",
    "\n",
    "As part of your simulation, you will create graphs of voltage over time for several levels of injected current. Please also include a summary graph of the average firing rate for a given current.\n",
    "\n",
    "### Break it down: Start with the sub-threshold dynamics"
   ]
  },
  {
   "cell_type": "code",
   "execution_count": null,
   "metadata": {},
   "outputs": [],
   "source": [
    "# Step 1: define all of your starting parameters\n",
    "import numpy as np\n",
    "import matplotlib.pyplot as plt\n",
    "\n",
    "dt = \n",
    "tFinal = \n",
    "tStimStart = \n",
    "tStimEnd = \n",
    "E = \n",
    "Vth = \n",
    "Vreset = \n",
    "Vspike =\n",
    "Rm = \n",
    "tau = \n",
    "iStim = \n",
    "\n",
    "# Step 2: Set up the data structures that you will graph. \n",
    "# Initialize them with zeros to speed up your code\n",
    "timeVector = np.arange() # Hint: A sequence from 0 to 500 ms in steps of 0.1 ms \n",
    "Vvector = np.zeros()\n",
    "Ivector = np.zeros()\n",
    "# Setting this to zero now will allow you to see what the simulation is like without external stimulation\n",
    "\n",
    "# Step 3: Set up initial conditions\n",
    "# Hint: at t=0, your voltage is equal to your resting potential\n",
    "Vvector[0] =\n",
    "\n",
    "# Step 4: Integrate the equation tau*dV/dt = -V + EL + currentVector*Rm\n",
    "# For-loop to calculate Vinf and store values in Vvector\n",
    "for j in range():\n",
    "    # Calculating Vinf\n",
    "\n",
    "    # Calculating the voltage\n",
    "\n",
    "# Plotting the voltage over time\n",
    "plt.figure()\n",
    "plt.plot(timeVector, Vvector)\n",
    "plt.ylabel('Voltage in mV')\n",
    "plt.xlabel('Time in ms')\n",
    "plt.title('Voltage vs. time')"
   ]
  },
  {
   "cell_type": "markdown",
   "metadata": {},
   "source": [
    "#### No injected current = Voltage stays at resting potential\n",
    "\n",
    "Okay, so maybe this isn't the most interesting simulation yet, but remember that we haven't yet stimulated our virtual neuron! Add the following code to your data structure along with a comment that explains what it is doing."
   ]
  },
  {
   "cell_type": "code",
   "execution_count": 4,
   "metadata": {},
   "outputs": [],
   "source": [
    "Ivector[1000:4000] = iStim\n",
    "# Answer:"
   ]
  },
  {
   "cell_type": "markdown",
   "metadata": {},
   "source": [
    "Now, run your code with 1.52 nA stimulation."
   ]
  },
  {
   "cell_type": "code",
   "execution_count": null,
   "metadata": {},
   "outputs": [],
   "source": [
    "# Your code here"
   ]
  },
  {
   "cell_type": "markdown",
   "metadata": {},
   "source": [
    "As you can see, the injected current results with the membrane behaving like a capacitor. However, the voltage vector has crossed the threshold for an action potential and there are no spikes. \n",
    "\n",
    "To include spikes in your simulation, you should include a conditional statement to check if the voltage has surpassed the threshold and if so, reset the next value of voltage vector to be the reset value. Now, we probably also want to show the spike in a graphically-pleasing way. Although the integrate and fire model by itself doesn't include \"spikes\", we can add them in in a copy of voltage vector that is set to the spike level once the threshold is met. (There are other ways of solving this problem, but this one makes the 'bookkeeping' simple.)\n",
    "\n",
    "It's also a good idea to add a counter so that we can count the number of \"spikes\" generated. "
   ]
  },
  {
   "cell_type": "code",
   "execution_count": null,
   "metadata": {},
   "outputs": [],
   "source": [
    "# Your code here"
   ]
  },
  {
   "cell_type": "markdown",
   "metadata": {},
   "source": [
    "### Now, it's time to test with multiple current values\n",
    "\n",
    "So far, we have made our simulated neuron fire to one level of injected current. Below is a template for getting your model to create and test several different currents. Put your code into the template to see your graph."
   ]
  },
  {
   "cell_type": "code",
   "execution_count": null,
   "metadata": {},
   "outputs": [],
   "source": [
    "# Define your parameters\n",
    "dt = \n",
    "tFinal = \n",
    "tStimStart = \n",
    "tStimEnd = \n",
    "E = \n",
    "Vth = \n",
    "Vreset = \n",
    "Vspike = \n",
    "Rm = \n",
    "tau = \n",
    "\n",
    "\n",
    "# Step 2: set up the data structures that you will graph. \n",
    "timeVector = np.arange()\n",
    "Ivector = np.zeros()\n",
    "plotVec = np.zeros()\n",
    "\n",
    "# Step 3: Define stimulation values\n",
    "plotNum = 0\n",
    "IstimVector = np.array([1.4,1.44,1.51,1.54,1.58,1.62])\n",
    "\n",
    "\n",
    "# Step 4: loop through stimulation values\n",
    "for stim in range(len(IstimVector)):\n",
    "    plotNum = plotNum + 1\n",
    "    \n",
    "    # we will have new voltage vectors at each step of the loop\n",
    "    Vvector = np.zeros()\n",
    "    plotVec = np.zeros()\n",
    "    \n",
    "    Vvector[0] = E  # set initial value\n",
    "    plotVec[0] = E\n",
    "    \n",
    "    #define the stimulus\n",
    "    Ivector[1000:4000] = \n",
    "    \n",
    "    # run your integration loop here\n",
    "    for j in range():\n",
    "        # Calculate Vinf\n",
    "        \n",
    "        # Calculate Vvector\n",
    "        \n",
    "        # Conditional to check if voltage has passed threshold\n",
    "        \n",
    "    \n",
    "    # make plots\n",
    "    plt.figure(figsize=(80,3))\n",
    "    plt.subplot(2,len(IstimVector),plotNum)\n",
    "    plt.plot(timeVector,plotVec)\n",
    "    if plotNum == 1:\n",
    "        plt.title('Voltage vs time')\n",
    "    elif plotNum == len(IstimVector):\n",
    "        plt.xlabel('Time in msec')\n",
    "    plt.ylabel('Voltage in mV') "
   ]
  },
  {
   "cell_type": "markdown",
   "metadata": {},
   "source": [
    "If completed correctly, your graph should look like this:\n",
    "<img src=\"Fig.jpg\" alt=\"drawing\" width=\"600\"/>"
   ]
  },
  {
   "cell_type": "markdown",
   "metadata": {},
   "source": [
    "At this point, we need to compute the firing rate for the neuron. The most straightforward way of doing this is to count up how many spikes occured and to divide by the amount of time the stimulation was on.\n",
    "\n",
    "Note: **Not** the length of the entire simulation (can you see why?).\n",
    "\n",
    "In the space below, add a variable to count the number of spikes in the threshold conditional and a line beneath each integration loop to calculate the rates. Save each of the rates in a vector and plot them versus their corresponding currents."
   ]
  },
  {
   "cell_type": "code",
   "execution_count": null,
   "metadata": {},
   "outputs": [],
   "source": [
    "# Define your parameters\n",
    "dt = \n",
    "tFinal = \n",
    "tStimStart = \n",
    "tStimEnd = \n",
    "E = \n",
    "Vth = \n",
    "Vreset = \n",
    "Vspike = \n",
    "Rm = \n",
    "tau = \n",
    "\n",
    "IstimVector = np.array([1.4,1.44,1.5,1.54,1.58,1.62])\n",
    "\n",
    "# Step 2: set up the data structures that you will graph. \n",
    "timeVector = np.arange()\n",
    "Ivector = np.zeros()\n",
    "spikeRate = np.zeros()\n",
    "\n",
    "plotNum = 0\n",
    "\n",
    "# loop through stimulation values\n",
    "for stim in range():\n",
    "    plotNum = plotNum + 1\n",
    "    spikeCount = 0\n",
    "\n",
    "    # set up initial conditions\n",
    "    Vvector = np.zeros()\n",
    "    plotVector = np.zeros()\n",
    "    \n",
    "    Vvector[0] =  # set initial value\n",
    "    plotVector[0] = \n",
    "    \n",
    "    #define the stimulus\n",
    "    Ivector[1000:4000] = \n",
    "    \n",
    "    # run your integration loop here    \n",
    "    for j in range():\n",
    "        # Calculate Vinf\n",
    "        \n",
    "        # Calculate Vvector\n",
    "        \n",
    "        # Conditional to check if voltage has passed threshold\n",
    "    \n",
    "    spikeRate[stim] = \n",
    "\n",
    "# make plots\n",
    "plt.figure()\n",
    "plt.plot(IstimVector,spikeRate)\n",
    "plt.xlabel('Injected Current (nA)')\n",
    "plt.ylabel('Firing Rate (spikes/s)')"
   ]
  },
  {
   "cell_type": "markdown",
   "metadata": {},
   "source": [
    "Great work! You have implemented your first neural model! Let's take some time to reflect on what you have learned. Answer the following questions as comments:\n",
    "\n",
    "What is the relationship between injected current and firing rate?"
   ]
  },
  {
   "cell_type": "code",
   "execution_count": 170,
   "metadata": {},
   "outputs": [],
   "source": [
    "# Answer:"
   ]
  },
  {
   "cell_type": "markdown",
   "metadata": {},
   "source": [
    "What will happen when we increase the current even more? Will the firing rater ever stop increasing? Why/why not?"
   ]
  },
  {
   "cell_type": "code",
   "execution_count": null,
   "metadata": {},
   "outputs": [],
   "source": [
    "# Answer:"
   ]
  },
  {
   "cell_type": "markdown",
   "metadata": {},
   "source": [
    "How realistic is this model of a neuron? Name at least one aspect of the model that seems realistic, and one that is contrived. For the aspects that you find lacking, can you think of ways of making it more biologically plausible?"
   ]
  },
  {
   "cell_type": "code",
   "execution_count": 171,
   "metadata": {},
   "outputs": [],
   "source": [
    "# Answer:"
   ]
  },
  {
   "cell_type": "markdown",
   "metadata": {},
   "source": [
    "Export this file as a PDF and upload to Lyceum for grading. Nice work today!"
   ]
  },
  {
   "cell_type": "code",
   "execution_count": null,
   "metadata": {},
   "outputs": [],
   "source": []
  }
 ],
 "metadata": {
  "kernelspec": {
   "display_name": "Python 3",
   "language": "python",
   "name": "python3"
  },
  "language_info": {
   "codemirror_mode": {
    "name": "ipython",
    "version": 3
   },
   "file_extension": ".py",
   "mimetype": "text/x-python",
   "name": "python",
   "nbconvert_exporter": "python",
   "pygments_lexer": "ipython3",
   "version": "3.7.3"
  }
 },
 "nbformat": 4,
 "nbformat_minor": 2
}
