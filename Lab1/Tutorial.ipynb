{
 "cells": [
  {
   "cell_type": "markdown",
   "metadata": {},
   "source": [
    "## <span style=\"color:red\"> Welcome to Computational Neuroscience!</span>\n",
    "\n",
    "This tutorial will take you through the core functionality of Jupyter Notebooks. At the end of the lab, please export this file as a PDF and leave it in your Etna folder for grading.\n",
    "\n",
    "### Part 0: A tour\n",
    "\n",
    "Jupyter Notebooks are unlike other coding interfaces because you can have mutliple live cells that can execute code independently from each other, as well as cells that can support Markdown which can be used for writing and reading words as opposed to code.\n",
    "\n",
    "Below the Jupyter logo, there is a tool bar which helps manage your Jupyter notebook.\n",
    "\n",
    "#### The following gif demonstrates how to create a new cell\n",
    "\n",
    "![](cell.gif)\n",
    "\n",
    "To execute these cells, you can either click **Run** (located on the toolbar) or press **Shift + Enter**.\n",
    "\n",
    "Python can be used to do virutally anything. However, compared to other languages, Python doesn't have many built-in functions. Similar to the concept of functions in math, functions in Python take an input and return and output, however, rather than just a number, the input in these functions can be just about anything. A list of functions already built into Python are in this link:\n",
    "\n",
    "https://docs.python.org/3/library/functions.html\n",
    "\n",
    "Fortunately, there are many packages that you can import into your Python script that have plenty of functions which make our lives a lot easier."
   ]
  },
  {
   "cell_type": "markdown",
   "metadata": {},
   "source": [
    "### Part 1: Let's do some math!\n",
    "\n",
    "\n",
    "Let's try this:\n",
    "\n",
    "Add two numbers of your choice."
   ]
  },
  {
   "cell_type": "code",
   "execution_count": null,
   "metadata": {},
   "outputs": [],
   "source": []
  },
  {
   "cell_type": "markdown",
   "metadata": {},
   "source": [
    "Find the value of five squared. (Hint: Python uses ** as the exponent character)"
   ]
  },
  {
   "cell_type": "code",
   "execution_count": null,
   "metadata": {},
   "outputs": [],
   "source": []
  },
  {
   "cell_type": "markdown",
   "metadata": {},
   "source": [
    "Find the value of the square root of 16. \n",
    "\n",
    "Notes: \n",
    "- Python doesn't have a built-in square root function, tun the following cell to see how to import a package and use one of it's functions.\n",
    "- In order to use a function stored in a package, you need to reference that package first"
   ]
  },
  {
   "cell_type": "code",
   "execution_count": 1,
   "metadata": {},
   "outputs": [
    {
     "data": {
      "text/plain": [
       "4.0"
      ]
     },
     "execution_count": 1,
     "metadata": {},
     "output_type": "execute_result"
    }
   ],
   "source": [
    "import numpy\n",
    "numpy.sqrt(16)"
   ]
  },
  {
   "cell_type": "markdown",
   "metadata": {},
   "source": [
    "Pretty cool right?\n",
    "\n",
    "However, coding is all about making our lives easier. Run the following cell to see how you can save a package into a smaller variable to reduce typing."
   ]
  },
  {
   "cell_type": "code",
   "execution_count": 2,
   "metadata": {},
   "outputs": [
    {
     "data": {
      "text/plain": [
       "4.0"
      ]
     },
     "execution_count": 2,
     "metadata": {},
     "output_type": "execute_result"
    }
   ],
   "source": [
    "import numpy as np\n",
    "np.sqrt(16)"
   ]
  },
  {
   "cell_type": "markdown",
   "metadata": {},
   "source": [
    "Although you can save the contents of a package into any variable of your choice, conventially **numpy** is saved as **np**.\n",
    "\n",
    "Sometimes you will only want to use one function from a package. In that case, you can directly import the function and use it without referencing the package.\n",
    "\n",
    "Run the following:"
   ]
  },
  {
   "cell_type": "code",
   "execution_count": 3,
   "metadata": {},
   "outputs": [
    {
     "data": {
      "text/plain": [
       "4.0"
      ]
     },
     "execution_count": 3,
     "metadata": {},
     "output_type": "execute_result"
    }
   ],
   "source": [
    "from numpy import sqrt\n",
    "sqrt(16)"
   ]
  },
  {
   "cell_type": "markdown",
   "metadata": {},
   "source": [
    "Nice! You just used your first package to help you do some calculations. "
   ]
  },
  {
   "cell_type": "markdown",
   "metadata": {},
   "source": [
    "Python uses the standard order of operations:\n",
    "1. Parentheses\n",
    "2. Exponents\n",
    "3. Multiplication\n",
    "4. Division\n",
    "5. Addition\n",
    "6. Subtration\n",
    "\n",
    "##### Use the correct parentheses to verfy that\n",
    "\n",
    "$$2+[5*3/(7-5)^2]/3\n",
    "$$\n",
    "##### Equals 3.25"
   ]
  },
  {
   "cell_type": "code",
   "execution_count": null,
   "metadata": {},
   "outputs": [],
   "source": []
  },
  {
   "cell_type": "markdown",
   "metadata": {},
   "source": [
    "### Part 2: Variables\n",
    "\n",
    "Variables in Python can hold a variety of data.\n",
    "\n",
    "Python supports 8 different data types:\n",
    "1. Integers\n",
    "2. Floats\n",
    "3. Strings\n",
    "4. Lists\n",
    "5. Tuples\n",
    "6. Boolean\n",
    "7. Objects\n",
    "8. Dictionaries\n",
    "\n",
    "#### Integers:\n",
    "Integers are positive or negative whole numbers with no decimal point.\n",
    "\n",
    "Create a variable called *thisMonth* and set it equal to 9.\n"
   ]
  },
  {
   "cell_type": "code",
   "execution_count": 4,
   "metadata": {},
   "outputs": [],
   "source": [
    "thisMonth = 9"
   ]
  },
  {
   "cell_type": "markdown",
   "metadata": {},
   "source": [
    "You can verify this variable is an integer by using one of Python's built-in functions called **_type()_**.\n",
    "\n",
    "Try it in the cell below."
   ]
  },
  {
   "cell_type": "code",
   "execution_count": null,
   "metadata": {},
   "outputs": [],
   "source": []
  },
  {
   "cell_type": "markdown",
   "metadata": {},
   "source": [
    "As you have now verified that *thisMonth* is an integer, use it to make the variable *nextMonth* equal to 10."
   ]
  },
  {
   "cell_type": "code",
   "execution_count": null,
   "metadata": {},
   "outputs": [],
   "source": []
  },
  {
   "cell_type": "markdown",
   "metadata": {},
   "source": [
    "***\n",
    "#### Floats:\n",
    "Floats (a.k.a floating point numbers) are positive or negative numbers with a decimal place. They can also be used in scientific notation.\n",
    "\n",
    "Create a variable called *circ* which is equal to the value of pi squared.\n",
    "\n",
    "Hint: pi is not native to Python, try referencing a package you have already imported "
   ]
  },
  {
   "cell_type": "code",
   "execution_count": 12,
   "metadata": {},
   "outputs": [],
   "source": []
  },
  {
   "cell_type": "markdown",
   "metadata": {},
   "source": [
    "***\n",
    "#### Strings:\n",
    "Strings are amongst the most popular types in Python. We can create them simply by enclosing characters in single or double quotes. \n",
    "\n",
    "Create a variable called *string1* and assign it to the word *hello*.\n",
    "\n",
    "Create another variable called *string2* and assign it to the word *goodbye*."
   ]
  },
  {
   "cell_type": "code",
   "execution_count": 50,
   "metadata": {},
   "outputs": [],
   "source": []
  },
  {
   "cell_type": "markdown",
   "metadata": {},
   "source": [
    "***\n",
    "Integers, floats, and strings are the three core data types you will be working with in this class. **However, organizing that data is just as important.**\n",
    "\n",
    "#### Lists:\n",
    "Lists refer to a series of variables contained within brackets and separated by commas.\n",
    "\n",
    "Create a list called *L1* and assign it to a set of any 3 integers or floats.\n",
    "\n",
    "Create another list called *L2* and assign it to a set of any 3 strings."
   ]
  },
  {
   "cell_type": "code",
   "execution_count": 51,
   "metadata": {},
   "outputs": [],
   "source": []
  },
  {
   "cell_type": "markdown",
   "metadata": {},
   "source": [
    "***\n",
    "#### Tuples:\n",
    "Similar to a list, tuples store a sequence of values, however their values are immutable which means that once you assign an item to the tuple, it can't be changed. The values are enclosed by parentheses and separated by commas. \n",
    "\n",
    "Create a tuple of any three values and save it as T1."
   ]
  },
  {
   "cell_type": "code",
   "execution_count": 53,
   "metadata": {},
   "outputs": [],
   "source": []
  },
  {
   "cell_type": "markdown",
   "metadata": {},
   "source": [
    "You can use some built-in functions on lists and tuples to find out important information about them.\n",
    "\n",
    "Try using **len(), max(), min(), and sum()** on your lists and tuples to see how they can be used."
   ]
  },
  {
   "cell_type": "code",
   "execution_count": null,
   "metadata": {},
   "outputs": [],
   "source": []
  },
  {
   "cell_type": "code",
   "execution_count": null,
   "metadata": {},
   "outputs": [],
   "source": []
  },
  {
   "cell_type": "code",
   "execution_count": null,
   "metadata": {},
   "outputs": [],
   "source": []
  },
  {
   "cell_type": "code",
   "execution_count": null,
   "metadata": {},
   "outputs": [],
   "source": []
  },
  {
   "cell_type": "markdown",
   "metadata": {},
   "source": [
    "### Part 3: Vectors and Matrices\n",
    "\n",
    "Lists and tuples in Python are good for storing information, but aren't efficient for many of the calculations we will be doing in this class. The numpy package that you have already been introduced to has an solution for this problem! A vector (similar to a list) is a sequence of values that has just one dimension, whereas matrices have mutliple. You can define the values and dimensions of vectors and matrices in a numpy array, which has the following syntax:\n",
    "\n",
    "    import numpy as np\n",
    "    vector = np.array([2,4,6,8])\n",
    "    matrix = np.array([[2,4],[6,8]])\n",
    "    \n",
    "Copy the above code in the cell below and use the **np.shape()** command to examine how they are different. Write a breif explanation about how and why the two arrays are different, noting the change in syntax."
   ]
  },
  {
   "cell_type": "code",
   "execution_count": 15,
   "metadata": {},
   "outputs": [],
   "source": [
    "\n",
    "# Answer:"
   ]
  },
  {
   "cell_type": "markdown",
   "metadata": {},
   "source": [
    "Numpy arrays also have helpful functions which automatically make vectors or matrices based on the inputs you give them.\n",
    "\n",
    "- **np.arange(**_start,stop,step_**)** creates a vector which counts from the start to stop in intervals given by step. Note: The stop parameter is non-inclusive meaning that the range of numbers will go up to but not include the stop parameter.\n",
    "- **np.zeros(**_(rows,columns)_**)** creates a matrix of zeros with a given size. Useful for creating space to be filled with real data later.\n",
    "- **np.ones(**_(rows,columns)_**)** creates a matrix of ones with a given size that is useful for matrix operations as well as creating space.\n",
    "\n",
    "Create a vector which counts from 1 to 10 in increments of 1.\n",
    "\n",
    "Create a matrx of zeros with 2 rows and 3 columns.\n",
    "\n",
    "Create a matrix of ones with 4 rows and 8 columns."
   ]
  },
  {
   "cell_type": "code",
   "execution_count": null,
   "metadata": {},
   "outputs": [],
   "source": []
  },
  {
   "cell_type": "markdown",
   "metadata": {},
   "source": [
    "Now, let's do some calculations! Create a vector of length 4 containing any 4 integers and multipy each value by 2.\n",
    "\n",
    "For example:\n",
    "\n",
    "    vec1 = np.array([num1,num2,num3,num4])\n",
    "    vec2 = vector*2\n",
    "    \n",
    "Print the resulting vector to see what has happened:"
   ]
  },
  {
   "cell_type": "code",
   "execution_count": null,
   "metadata": {},
   "outputs": [],
   "source": []
  },
  {
   "cell_type": "markdown",
   "metadata": {},
   "source": [
    "Each value was doubled right!?\n",
    "\n",
    "Now, make a matrix of any size containing any integers and multiply it by 2. You resulting matrix should also be doubled:"
   ]
  },
  {
   "cell_type": "code",
   "execution_count": 16,
   "metadata": {},
   "outputs": [
    {
     "name": "stdout",
     "output_type": "stream",
     "text": [
      "[[ 4  8]\n",
      " [12 16]]\n"
     ]
    }
   ],
   "source": [
    "mat1 = np.array([[2,4],[6,8]])\n",
    "mat2 = mat1*2\n",
    "print(mat2)"
   ]
  },
  {
   "cell_type": "markdown",
   "metadata": {},
   "source": [
    "#### Througout the class, we will be working with vectors and arrays with millions of elements. So understanding the basics is very important."
   ]
  },
  {
   "cell_type": "markdown",
   "metadata": {},
   "source": [
    "### Part 4: Indexing\n",
    "\n",
    "Once you have your data organized, you may want to be able to access specific elements or groups of items from these structures.\n",
    "\n",
    "If you recall, the **_np.arange()_** function is non-inclusive, meaning that will count up to, but not include the stop parameter. This is because Python is zero indexed, signifying that Python counts zero as a value.\n",
    "\n",
    "Verify this yourself by running the following cell and observing the values and length of the resulting vector."
   ]
  },
  {
   "cell_type": "code",
   "execution_count": 3,
   "metadata": {},
   "outputs": [
    {
     "data": {
      "text/plain": [
       "array([0, 1, 2, 3, 4, 5, 6, 7, 8, 9])"
      ]
     },
     "execution_count": 3,
     "metadata": {},
     "output_type": "execute_result"
    }
   ],
   "source": [
    "np.arange(10)"
   ]
  },
  {
   "cell_type": "markdown",
   "metadata": {},
   "source": [
    "This concept can be confusing at first but is very important when it comes to choosing which data you want to access. For example: if you wanted to get the 3rd value in a list, you would use the following syntax:\n",
    "\n",
    "    list1 = [1,4,7,9,5]\n",
    "    list2[2]\n",
    "    > 7\n",
    "Because Python counts 2 as the 3rd *value*.\n",
    "\n",
    "In the cell below, run the **_%whos_** command to see what variables you have define already, and in the lists you made earlier, access each item using square brackets."
   ]
  },
  {
   "cell_type": "code",
   "execution_count": null,
   "metadata": {},
   "outputs": [],
   "source": []
  },
  {
   "cell_type": "markdown",
   "metadata": {},
   "source": [
    "#### You can also use indexing to change values already in a list!\n",
    "\n",
    "Try changing the second value of *L1* to a string containing your name. Print out the list to check your work."
   ]
  },
  {
   "cell_type": "code",
   "execution_count": null,
   "metadata": {},
   "outputs": [],
   "source": []
  },
  {
   "cell_type": "markdown",
   "metadata": {},
   "source": [
    "If you index a list by a negative number, it counts from the end of the list."
   ]
  },
  {
   "cell_type": "code",
   "execution_count": null,
   "metadata": {},
   "outputs": [],
   "source": []
  },
  {
   "cell_type": "markdown",
   "metadata": {},
   "source": [
    "You can access more than one item by using a colon. Run the following and write a comment under each line explaining what it does:"
   ]
  },
  {
   "cell_type": "code",
   "execution_count": 65,
   "metadata": {},
   "outputs": [
    {
     "name": "stdout",
     "output_type": "stream",
     "text": [
      "['apple', 'banana', 'carrot', 'dates', 'eggs']\n",
      "['carrot', 'dates']\n",
      "['dates', 'eggs']\n",
      "['apple', 'banana', 'carrot']\n"
     ]
    }
   ],
   "source": [
    "print(shopping_list[:])\n",
    "# your comment here\n",
    "print(shopping_list[2:4])\n",
    "# your comment here\n",
    "print(shopping_list[3:])\n",
    "# your comment here\n",
    "print(shopping_list[:-2])\n",
    "# your comment here"
   ]
  },
  {
   "cell_type": "markdown",
   "metadata": {},
   "source": [
    "You can use Python's built-in **_sorted()_** function to return a sorted copy of the values stored in your list."
   ]
  },
  {
   "cell_type": "code",
   "execution_count": null,
   "metadata": {},
   "outputs": [],
   "source": []
  },
  {
   "cell_type": "markdown",
   "metadata": {},
   "source": [
    "You can sort in reverse order by using another parameter"
   ]
  },
  {
   "cell_type": "code",
   "execution_count": 8,
   "metadata": {},
   "outputs": [],
   "source": [
    "sorted( ,reverse=True)"
   ]
  },
  {
   "cell_type": "markdown",
   "metadata": {},
   "source": [
    "*sorted()* can be used on any sort of list or iterable and returns an altered copy of the original list without actually changing it."
   ]
  },
  {
   "cell_type": "markdown",
   "metadata": {},
   "source": [
    "#### Numpy arrays convieniently follow the same indexing rules as lists do.\n",
    "\n",
    "Numpy arrays can be indexed with the same syntax as lists, but some arrays have more than one dimension and lists do not. To access the various rows and columns stored within a matrix, use a comma to separate the different dimensions. For example, if you wanted to access the value stored in the 3rd row and 2nd column, you could do the following:\n",
    "\n",
    "    matrix = np.array([[1,2,3,4],[2,4,6,8],[3,6,9,12]])\n",
    "    print(matrix[2,1])\n",
    "\n",
    "which returns:\n",
    "\n",
    "    6\n",
    "    \n",
    "In the cell below, predict which values each line of code will return, and then run the cell to see how you did."
   ]
  },
  {
   "cell_type": "code",
   "execution_count": 152,
   "metadata": {},
   "outputs": [
    {
     "name": "stdout",
     "output_type": "stream",
     "text": [
      "2\n",
      "4\n",
      "12\n",
      "[3 6 9]\n",
      "[[2 4]\n",
      " [3 6]]\n",
      "[1 2 3 4]\n"
     ]
    }
   ],
   "source": [
    "matrix = np.array([[1,2,3,4],[2,4,6,8],[3,6,9,12]])\n",
    "\n",
    "\n",
    "print(matrix[1,0])\n",
    "# Answer:\n",
    "\n",
    "print(matrix[0,3])\n",
    "# Answer:\n",
    "\n",
    "print(matrix[2,-1])\n",
    "# Answer:\n",
    "\n",
    "print(matrix[:,2])\n",
    "# Answer:\n",
    "\n",
    "print(matrix[1:,:2])\n",
    "# Answer:\n",
    "\n",
    "print(matrix[0,:])\n",
    "# Answer:"
   ]
  },
  {
   "cell_type": "markdown",
   "metadata": {},
   "source": [
    "Now that you know how to navigate around data structures, there is a secret code stored in the following arrays. Using the methods you have learned so far, look for clues stored within these arrays:\n",
    "\n",
    "Hint: Use **np.shape(**_array_**)** to get an idea of how big each matrix is to help you decide the fasest method of decoding the hidden message"
   ]
  },
  {
   "cell_type": "code",
   "execution_count": 9,
   "metadata": {},
   "outputs": [],
   "source": [
    "array1 = np.load('array1.npy')\n",
    "array2 = np.load('array2.npy')\n",
    "array3 = np.load('array3.npy')\n",
    "\n",
    "\n",
    "# Answer:"
   ]
  },
  {
   "cell_type": "markdown",
   "metadata": {},
   "source": [
    "### Part 5: Logicals\n",
    "\n",
    "Now that you know how to store, organize, and index data, it is important to learn how to compare it.\n",
    "\n",
    "A good way to do this is with logicals. Also knowns as Booleans, they are binary variabels that have True and False as their possible values, they can also be represented with a 1 and 0 respectively.\n",
    "\n",
    "One way of using logicals to to make tests that will reutrn True or False depending on the query. For example, let's say that you want to test whether two items are the same value. In this case, you would querry it with the == operator\n",
    "\n",
    "Try it out for yourself: test whether 2 equals 1 and whether 1 equals 1."
   ]
  },
  {
   "cell_type": "code",
   "execution_count": 99,
   "metadata": {},
   "outputs": [
    {
     "name": "stdout",
     "output_type": "stream",
     "text": [
      "False\n",
      "True\n"
     ]
    }
   ],
   "source": [
    "print(2==1)\n",
    "print(1==1)"
   ]
  },
  {
   "cell_type": "markdown",
   "metadata": {},
   "source": [
    "**IMPORTANT NOTE:** == and = are not the same thing! A single = assigns a variable name to an object, as you learned earlier. The == wil return a logical value (1 or 0) depending of the truth of the proposition.\n",
    "\n",
    "Other logical operators that may be useful include:\n",
    "- **_and_** = and\n",
    "- **_or_** = or\n",
    "- **_not_** = not\n",
    "- **_!=_** = not equal to\n",
    "- **_>_** = greater than\n",
    "- **_>=_** = greater than or equal to\n",
    "- **_<_** = less than\n",
    "- **_<=_** = less than or equal to\n",
    "\n",
    "Before running each of the following statements, write a omment that translates the statement into words, and in parentheses, state whether Python should return True or False. For example, 1>2 you should write \"1 is greater than 2 (False)\"."
   ]
  },
  {
   "cell_type": "code",
   "execution_count": 112,
   "metadata": {},
   "outputs": [
    {
     "data": {
      "text/plain": [
       "True"
      ]
     },
     "execution_count": 112,
     "metadata": {},
     "output_type": "execute_result"
    }
   ],
   "source": [
    "# 1 is not equal to 2 or 3 is greater than 4 (True)\n",
    "1!=2 or 3>4"
   ]
  },
  {
   "cell_type": "code",
   "execution_count": 113,
   "metadata": {},
   "outputs": [
    {
     "data": {
      "text/plain": [
       "False"
      ]
     },
     "execution_count": 113,
     "metadata": {},
     "output_type": "execute_result"
    }
   ],
   "source": [
    "# 3 equals 4 and 8 equals the sum of 4 and 4 (False)\n",
    "3==4 and 8==(4+4)"
   ]
  },
  {
   "cell_type": "code",
   "execution_count": 114,
   "metadata": {},
   "outputs": [
    {
     "data": {
      "text/plain": [
       "False"
      ]
     },
     "execution_count": 114,
     "metadata": {},
     "output_type": "execute_result"
    }
   ],
   "source": [
    "# It is not the case that 2 is less than or equal to 8 (False)\n",
    "not(2<=8)"
   ]
  },
  {
   "cell_type": "markdown",
   "metadata": {},
   "source": [
    "Logicals are a useful tool for subsetting data. Let's say that you recorded the firing rate of 7 neurons and placed this data in a vector:"
   ]
  },
  {
   "cell_type": "code",
   "execution_count": 209,
   "metadata": {},
   "outputs": [],
   "source": [
    "firingRates = np.array([20, 45, -1, 200, 57, -1])"
   ]
  },
  {
   "cell_type": "markdown",
   "metadata": {},
   "source": [
    "You know that a neuron can't have a negative firing rate, so you want to remove these points from your analysis.\n",
    "\n",
    "Index the firing rates by using a logical expression to remove the bad firing rates and save the resulting vector as GoodFiringRates:"
   ]
  },
  {
   "cell_type": "code",
   "execution_count": 210,
   "metadata": {},
   "outputs": [
    {
     "data": {
      "text/plain": [
       "array([ 20,  45, 200,  57])"
      ]
     },
     "execution_count": 210,
     "metadata": {},
     "output_type": "execute_result"
    }
   ],
   "source": [
    "goodFiringRates = firingRates[firingRates > 0]\n",
    "goodFiringRates"
   ]
  },
  {
   "cell_type": "markdown",
   "metadata": {},
   "source": [
    "Upon futher inspection of your data, you are doubtful that a neuron can fire at 200 HZ. Use a subsetting method of your choice to remove points that have firing rates that are negative or greater than 100 Hz.\n",
    "\n",
    "Hint: You will need to use two lines of code."
   ]
  },
  {
   "cell_type": "code",
   "execution_count": 204,
   "metadata": {},
   "outputs": [
    {
     "data": {
      "text/plain": [
       "array([20, 45, 57])"
      ]
     },
     "execution_count": 204,
     "metadata": {},
     "output_type": "execute_result"
    }
   ],
   "source": [
    "finalData = firingRates[firingRates > 0]\n",
    "finalData = finalData[finalData < 100]\n",
    "finalData"
   ]
  },
  {
   "cell_type": "markdown",
   "metadata": {},
   "source": [
    "### Part 6: Plotting\n",
    "\n",
    "Without being able to visualize data, it is extremely difficult to understand what it means. This is where plotting comes in. There are many different ways to plot data, with line graphs, historgrams, and scatter plots being the among the most common.\n",
    "\n",
    "A helpful function when it comes to plotting is _**np.linspace(**start,stop,num**)**_ which returns a vector of evenly spaced numbers over a specific interval. This function is similar to the _**np.arange()**_ function except it is *inclusive* and the 3rd parameter indicates how many points the interval should be split into.\n",
    "\n",
    "This is helpful for plotting because you can easily set your x-axis to a set of evenly spaced points over any interval (particularly useful when working with data over time).\n",
    "\n",
    "Run the following cell to see how **_np.linspace()_** can be used to represent 10 seconds split up into various intervals."
   ]
  },
  {
   "cell_type": "code",
   "execution_count": 23,
   "metadata": {},
   "outputs": [
    {
     "name": "stdout",
     "output_type": "stream",
     "text": [
      "[  1.     3.25   5.5    7.75  10.  ]\n",
      "[  1.   2.   3.   4.   5.   6.   7.   8.   9.  10.]\n",
      "[  1.           1.47368421   1.94736842   2.42105263   2.89473684\n",
      "   3.36842105   3.84210526   4.31578947   4.78947368   5.26315789\n",
      "   5.73684211   6.21052632   6.68421053   7.15789474   7.63157895\n",
      "   8.10526316   8.57894737   9.05263158   9.52631579  10.        ]\n"
     ]
    }
   ],
   "source": [
    "print(np.linspace(1,10,5))\n",
    "print(np.linspace(1,10,10))\n",
    "print(np.linspace(1,10,20))"
   ]
  },
  {
   "cell_type": "markdown",
   "metadata": {},
   "source": [
    "Python by itself does not have the ability to plot data, so you are going to need to import the **_matplotlib.pyplot_** library. \n",
    "\n",
    "Run the following code and breifly describe in a comment what each part of the code does:"
   ]
  },
  {
   "cell_type": "code",
   "execution_count": 26,
   "metadata": {},
   "outputs": [
    {
     "data": {
      "text/plain": [
       "[<matplotlib.lines.Line2D at 0x7f87570bb198>]"
      ]
     },
     "execution_count": 26,
     "metadata": {},
     "output_type": "execute_result"
    },
    {
     "data": {
      "image/png": "[encoded data removed]",
      "text/plain": [
       "<Figure size 432x288 with 1 Axes>"
      ]
     },
     "metadata": {},
     "output_type": "display_data"
    }
   ],
   "source": [
    "import matplotlib.pyplot as plt\n",
    "\n",
    "firingRates = np.array([20, 45, -1, 200, 57, -1, 35, 52, 180, 25, 28, 42])\n",
    "finalData = firingRates[firingRates > 0]\n",
    "finalData = finalData[finalData < 100]\n",
    "# Answer:\n",
    "\n",
    "xAxis = np.linspace(1,len(finalData),len(finalData))\n",
    "#Answer:\n",
    "\n",
    "plt.figure()\n",
    "plt.plot(xAxis, finalData)\n",
    "# Answer:"
   ]
  },
  {
   "cell_type": "markdown",
   "metadata": {},
   "source": [
    "Again, run the following code and breifly describe in a comment what each part of the code does:"
   ]
  },
  {
   "cell_type": "code",
   "execution_count": 218,
   "metadata": {},
   "outputs": [
    {
     "data": {
      "text/plain": [
       "<matplotlib.collections.PathCollection at 0x7f0e95def3c8>"
      ]
     },
     "execution_count": 218,
     "metadata": {},
     "output_type": "execute_result"
    },
    {
     "data": {
      "image/png": "[encoded data removed]",
      "text/plain": [
       "<Figure size 432x288 with 1 Axes>"
      ]
     },
     "metadata": {},
     "output_type": "display_data"
    }
   ],
   "source": [
    "XVec = np.random.randint(1, high=10, size=(20))\n",
    "YVec = np.random.randint(1, high=10, size=(20))\n",
    "# Answer:\n",
    "\n",
    "# Note: for plt.scatter to work, the X and Y vectors must be of equal length\n",
    "plt.figure()\n",
    "plt.scatter(XVec, YVec)\n",
    "# Answer:"
   ]
  },
  {
   "cell_type": "markdown",
   "metadata": {},
   "source": [
    "Next, make a histrogram of random numbers from a normal distribution:"
   ]
  },
  {
   "cell_type": "code",
   "execution_count": 33,
   "metadata": {},
   "outputs": [
    {
     "data": {
      "image/png": "[encoded data removed]",
      "text/plain": [
       "<Figure size 432x288 with 1 Axes>"
      ]
     },
     "metadata": {},
     "output_type": "display_data"
    }
   ],
   "source": [
    "x = np.random.normal(size = 1000)\n",
    "\n",
    "plt.hist(x, bins=30)\n",
    "plt.ylabel('Probability');"
   ]
  },
  {
   "cell_type": "markdown",
   "metadata": {},
   "source": [
    "That's it for the basics. If you have time to spare in this lab, feel free to start Lab 2, which will take you through the topics of creating loops, condiditional statements, functions, and plotting!\n",
    "\n",
    "Remember to export this lab as a PDF and leave it in your personal Etna folder!\n",
    "\n",
    "Here is a GIF demonstrating how to download your notebook and save it in Etna:\n",
    "\n",
    "\n",
    "![](download.gif)"
   ]
  },
  {
   "cell_type": "code",
   "execution_count": null,
   "metadata": {},
   "outputs": [],
   "source": []
  }
 ],
 "metadata": {
  "kernelspec": {
   "display_name": "Python 3",
   "language": "python",
   "name": "python3"
  },
  "language_info": {
   "codemirror_mode": {
    "name": "ipython",
    "version": 3
   },
   "file_extension": ".py",
   "mimetype": "text/x-python",
   "name": "python",
   "nbconvert_exporter": "python",
   "pygments_lexer": "ipython3",
   "version": "3.6.3"
  }
 },
 "nbformat": 4,
 "nbformat_minor": 2
}
