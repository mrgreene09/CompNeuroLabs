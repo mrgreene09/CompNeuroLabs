{
 "cells": [
  {
   "cell_type": "markdown",
   "metadata": {},
   "source": [
    "## <span style=\"color:red\">Lab 2: Looping, Conditional statements, Functions</span>\n",
    "\n",
    "The beauty of Python is that it can be used to convey any idea that you can express precisely. In fact, once you have mastered these tools, you may find that it is much easier to express your thoughts because natural languages are full of ambiguities.\n",
    "\n",
    "### Conditional Statements: if, elif, else\n",
    "![](image1.jpeg)\n",
    "\n",
    "If you have used IFTTT, then you already understand the concept of conditionals:\n",
    "#### If *this* is true, then do *that*\n",
    "\n",
    "To see this in action, read the following code. Run it, and then write comments telling me what each line of code is doing. Note the significance of each part of the **np.random.rand()** function."
   ]
  },
  {
   "cell_type": "code",
   "execution_count": 1,
   "metadata": {},
   "outputs": [
    {
     "name": "stdout",
     "output_type": "stream",
     "text": [
      "The number 0.4730296936344466 is less than 0.5\n"
     ]
    }
   ],
   "source": [
    "import numpy as np\n",
    "x = np.random.rand()\n",
    "# Answer: \n",
    "\n",
    "if x<0.5:\n",
    "    print('The number', x , 'is less than 0.5')\n",
    "    # Answer:\n",
    "else:\n",
    "    print('The number', x , 'is more than 0.5')\n",
    "    # Answer:"
   ]
  },
  {
   "cell_type": "markdown",
   "metadata": {},
   "source": [
    "Let's say that you have three outcomes: result1, result2 and result3. You can use the following syntax:\n",
    "    \n",
    "    if condition1 is true:\n",
    "        result1\n",
    "        \n",
    "    elif condition2 true:\n",
    "        result2\n",
    "        \n",
    "    else:\n",
    "        result3\n",
    "        \n",
    "Note: You can use the **pass** command to move on to the next condition without doing anything.\n",
    "\n",
    "Try this out yourself: the first line of code will return a random integer between 0 and 9. Use if, elif, and else to return the words result1, result2, and result3 respectively if the value is less than or equal to 3, between 4 and 6, or greater than 7."
   ]
  },
  {
   "cell_type": "code",
   "execution_count": 2,
   "metadata": {},
   "outputs": [],
   "source": [
    "randNum = np.random.randint(0,10)\n",
    "# put your if, elif, and else statements here"
   ]
  },
  {
   "cell_type": "markdown",
   "metadata": {},
   "source": [
    "### Looping: Part 1\n",
    "\n",
    "One of the best parts of computer programming is getting the computer to do boring, repetitive work so that you don't have to! Let's say that you have a calculation that you need to do a certain number of time, like processing a set of 25 neurons, or if you have an EEG recording from 16 participants, a for-loop will execute any specified code a certain number of times.\n",
    "\n",
    "For example: If you wanted to write a for-loop to count from 0 to 4, you could do the following:\n",
    "\n",
    "    for i in range(5):\n",
    "        print(i)\n",
    "        \n",
    "Where:\n",
    "- **_for_** initiates the loop\n",
    "- **_i_** is the variable assigned a value in the range between 0 and 4\n",
    "- **_in_** is the function which assigns **_i_** to a value in **_range(5)_**\n",
    "- **_range(5)_** returns an integer between 0 and 4 according to how many times the for-loop has iterated.\n",
    "- **_print(i)_** prints the value of **_i_** because it is idented following the **for** command, indicating that it should be executed\n",
    "\n",
    "Pretty simple when you break it down right!?\n",
    "\n",
    "Let's try another example:\n",
    "\n",
    "In the cell below, write a for-loop that calculates and prints the square of each item in a list."
   ]
  },
  {
   "cell_type": "code",
   "execution_count": 16,
   "metadata": {},
   "outputs": [],
   "source": [
    "numList = [1,2,3,4,5]\n",
    "# Your loop here"
   ]
  },
  {
   "cell_type": "markdown",
   "metadata": {},
   "source": [
    "#### Now let's try something a little bit harder!"
   ]
  },
  {
   "cell_type": "markdown",
   "metadata": {},
   "source": [
    "### Using loops to solve differential equations numerically\n",
    "\n",
    "Because computers are very good at doing lots of boring calculations, we can use them to accurately approximate solutions to differential equiations. This is essential when the numerical solutions do not yet exist (such as in the Hodgkin & Huxley equations that we will see soon), but are also broadly helpful.\n",
    "\n",
    "Here, we will learn one such numerical method, **Euler's method**. It is the oldest and pretty simple, but as we will see in this tutorial, not always the most accurate.\n",
    "\n",
    "Let's start by implementing a solution by hand so that we understand what this method is doing. Consider a very simple example:\n",
    "\n",
    "\\begin{equation*}\n",
    "\\frac{dy}{dx} = y\n",
    "\\end{equation*}\n",
    "\n",
    "With an initial condition of $y(0) = 1$. if you were to solve this equation analytically, you would find that it is $e^x$.\n",
    "\n",
    "What Euler's method does is assume that the slope of the function remains linear between any change in input. In other words, since our initial $y$ value is 1, it will assume a constant slope of 1 within some range of $x$. For this example, let's assume that range is 1.\n",
    "\n",
    "The Euler solution to a differential equation is:\n",
    "\n",
    "\\begin{equation*}\n",
    "y_{+1} = y_{n} + \\Delta x * f(x_{n},y_{n})\n",
    "\\end{equation*}"
   ]
  },
  {
   "cell_type": "markdown",
   "metadata": {},
   "source": [
    "In this differential equation, the function $f$ is defined by $f(x,y) = y$\n",
    "\n",
    "We can therefore express our starting condition as:\n",
    "\n",
    "\\begin{equation*}\n",
    "f(x_{0},y_{0}) = f(0,1) = 1 \n",
    "\\end{equation*} \n",
    "\n",
    "In order to find the next value of $y$, we need to multipy the current $y$ by the change in $x$:\n",
    "\n",
    "\\begin{equation*}\n",
    "\\Delta x * f(y_{0}) = 1 * 1 = 1\n",
    "\\end{equation*}\n",
    "\n",
    "This is like saying that from $x=0$ until $x=1$, we have a constant slope of 1.\n",
    "\n",
    "Putting it all together:\n",
    "\n",
    "\\begin{equation*}\n",
    "y_{1} = y_{0} + \\Delta x * f(x_{0},y_{0})\n",
    "\\end{equation*}\n",
    "\n",
    "\\begin{equation*}\n",
    "= 1 + 1 * 1 = 2\n",
    "\\end{equation*}\n",
    "\n",
    "Repeat the above steps to find the Euler solution for $y^2$, $y^3$, and $y^4$."
   ]
  },
  {
   "cell_type": "code",
   "execution_count": 16,
   "metadata": {},
   "outputs": [],
   "source": [
    "# x_n      y_n     f(x_n,y_n)      y_n+1\n",
    "# 0         1       1              2\n",
    "# 1         2       2              4\n",
    "# 2         4       4              8\n",
    "# 3         8       8              16"
   ]
  },
  {
   "cell_type": "markdown",
   "metadata": {},
   "source": [
    "Let's see how close this is to the analytical solution. Because we are going to be doing some calculations with them, we can import the *numpy* package and store those values in an array. \n",
    "\n",
    "Import the **_numpy_** package and make a 1-dimensional array of the values you calculated above, and call it yHat. "
   ]
  },
  {
   "cell_type": "code",
   "execution_count": 5,
   "metadata": {},
   "outputs": [],
   "source": [
    "# Your code here"
   ]
  },
  {
   "cell_type": "markdown",
   "metadata": {},
   "source": [
    "Now you are going to need to create an array of the first 4 values of the analytical solution: $y = e^x$\n",
    "\n",
    "The **_numpy_** package has an **_exp(x)_** function which returns the value of $e^x$. This function can also work with a vector of numbers as well, returning $e^x$ for each element.\n",
    "\n",
    "Create an x vector with the values 0 through 3, and use **_np.exp()_** to save the calculated values in a vector y."
   ]
  },
  {
   "cell_type": "code",
   "execution_count": 6,
   "metadata": {},
   "outputs": [],
   "source": [
    "# Your code here"
   ]
  },
  {
   "cell_type": "markdown",
   "metadata": {},
   "source": [
    "Let's see how good the Euler method actually is. We can express this in terms of mean squared error (MSE). This is the average of the sum of squared differencess between y and yHat:\n",
    "\n",
    "\\begin{equation*}\n",
    "MSE = \\frac{1}{n}\\sum_{i=1}^n (y_i-yHat_i)^2\n",
    "\\end{equation*}"
   ]
  },
  {
   "cell_type": "code",
   "execution_count": null,
   "metadata": {},
   "outputs": [],
   "source": [
    "# Your code here"
   ]
  },
  {
   "cell_type": "markdown",
   "metadata": {},
   "source": [
    "When done correctly, your MSE should be approximately 39.5. Not so great, right? If you look at the differences between y and yHat, you'll see that the error grows larger with each point. This implies that reducing the step size should also reduce the error. Let's try reducing the change in x to 0.5."
   ]
  },
  {
   "cell_type": "code",
   "execution_count": 21,
   "metadata": {},
   "outputs": [],
   "source": [
    "# x_n      y_n     f(x_n,y_n)      y_n+1\n",
    "# 0         1       1              1.5\n",
    "# 0.5       1.5     1.5            2.25\n",
    "# 1         2.25    2.25           5\n",
    "# 1.5       5       5              7.5\n",
    "# 2         7.5     7.5            11.25\n",
    "# 2.5       11.25   11.25          16.875\n",
    "# 3         16.875  16.875         25.3125"
   ]
  },
  {
   "cell_type": "markdown",
   "metadata": {},
   "source": [
    "Now, let's calculate the MSE. Note that we'll have to redefine y, and yHat as they are now larger arrays. \n",
    "\n",
    "Hint: $\\Delta x$ is now 0.5, but the range function can only step up in intervals. Use **_np.arange(x, y, z)_** to create an array where x is the lower value, y is the upper value, and z is the step between them. Call this x."
   ]
  },
  {
   "cell_type": "code",
   "execution_count": 7,
   "metadata": {},
   "outputs": [],
   "source": [
    "# your code here"
   ]
  },
  {
   "cell_type": "code",
   "execution_count": 9,
   "metadata": {},
   "outputs": [],
   "source": [
    "# Redefine yHat and calculate the y vector"
   ]
  },
  {
   "cell_type": "markdown",
   "metadata": {},
   "source": [
    "Now, let's calculate the MSE. If done correctly, your new MSE should be 1.67"
   ]
  },
  {
   "cell_type": "code",
   "execution_count": 10,
   "metadata": {},
   "outputs": [],
   "source": [
    "# Your code here"
   ]
  },
  {
   "cell_type": "markdown",
   "metadata": {},
   "source": [
    "Let's use another example with a different differential equation:\n",
    "\n",
    "\\begin{equation*}\n",
    "\\frac{dy}{dx} = -2y\n",
    "\\end{equation*}\n",
    "\n",
    "Where $y(0) = 3$.\n",
    "\n",
    "The analytical solution to this equation is:\n",
    "\n",
    "\\begin{equation*}\n",
    "y(x) = 3e^{-2x}\n",
    "\\end{equation*}\n",
    "\n",
    "Write for-loop that will calculate the analytical solution for each value in the given x vector and plot it as a point on a graph.\n",
    "\n",
    "Hint: \n",
    "- You will need to import the matplotlib library because you will be plotting.\n",
    "- You will need to index each element of the x vector in the loop"
   ]
  },
  {
   "cell_type": "code",
   "execution_count": 15,
   "metadata": {},
   "outputs": [
    {
     "data": {
      "text/plain": [
       "<Figure size 432x288 with 0 Axes>"
      ]
     },
     "execution_count": 15,
     "metadata": {},
     "output_type": "execute_result"
    },
    {
     "data": {
      "text/plain": [
       "<Figure size 432x288 with 0 Axes>"
      ]
     },
     "metadata": {},
     "output_type": "display_data"
    }
   ],
   "source": [
    "import matplotlib.pyplot as plt\n",
    "x = np.arange(0,3,.1)\n",
    "plt.figure()\n",
    "# Your code"
   ]
  },
  {
   "cell_type": "markdown",
   "metadata": {},
   "source": [
    "#### Well done! You just used a for-loop to do a bunch of calculations for you and all you had to do what give it the right instructions.\n",
    "\n",
    "Let's move onto something new:\n",
    "\n",
    "In python the “%” has two different uses. When used in a math problem, it is used to represent modulus. The modulus of a number is the remainder left when you divide two numbers. Because of this, it can be used to determine if one number is a factor of another.\n",
    "\n",
    "In the cell below, fill in the template to create a loop which prints what numbers x is divisible by:"
   ]
  },
  {
   "cell_type": "code",
   "execution_count": 29,
   "metadata": {},
   "outputs": [
    {
     "name": "stdout",
     "output_type": "stream",
     "text": [
      "The number 8 is divisible by 2\n",
      "The number 8 is not divisible by 3\n",
      "The number 8 is divisible by 4\n",
      "The number 8 is not divisible by 5\n",
      "The number 8 is not divisible by 6\n",
      "The number 8 is not divisible by 7\n"
     ]
    }
   ],
   "source": [
    "x = 8\n",
    "\n",
    "for i in range(2,x):\n",
    "    if :\n",
    "        print('The number', , 'is divisible by', )\n",
    "    else:\n",
    "        print('The number', , 'is not divisible by', )"
   ]
  },
  {
   "cell_type": "markdown",
   "metadata": {},
   "source": [
    "Right now, the code is not especially useful. We can easily change it into a script that can tell you whether or not a number is prime. In the space below, alter the code in the following ways:\n",
    "- Rather than printing out a statement at each step of the loop, have a single statement printed at the end that reads \"The number X is a prime number\" or \"The number X is not a prime number\" as appropriate.\n",
    "\n",
    "\n",
    "- In order to find out whether any factors have been found, create a variable that is initialized to be 0, but changes its value to 1 if a factor has been found.\n",
    "\n",
    "\n",
    "- In order to test your code completely, test it with x values of both 11 and 8."
   ]
  },
  {
   "cell_type": "code",
   "execution_count": 18,
   "metadata": {},
   "outputs": [],
   "source": [
    "# Your code here"
   ]
  },
  {
   "cell_type": "markdown",
   "metadata": {},
   "source": [
    "Assessing whether or not a number is prime, especially using the algorithim above, is not very efficient. (Fun fact: nearly all of computer security and encryption is based on this fact!) You can test this for yourself by using your code to determine if 100992929 is a prime number."
   ]
  },
  {
   "cell_type": "code",
   "execution_count": 20,
   "metadata": {},
   "outputs": [
    {
     "name": "stdout",
     "output_type": "stream",
     "text": [
      "The number 100992929 is prime!\n",
      "RunTime:  35.01932668685913\n"
     ]
    }
   ],
   "source": [
    "from time import time\n",
    "t0 = time()\n",
    "x = 100992929\n",
    "\n",
    "# Your code here\n",
    "\n",
    "t1 = time()\n",
    "print('RunTime: ',t1-t0)"
   ]
  },
  {
   "cell_type": "markdown",
   "metadata": {},
   "source": [
    "One way of improving the efficiency of the code, is to stop once it has found a factor. The **_break_** statement will stop a for-loop once a condition is met. Try your code with the number 100992920, and add a break once a first factor is found. Using **time()**, write a comment about the % decrease in runtime your program now has."
   ]
  },
  {
   "cell_type": "code",
   "execution_count": 22,
   "metadata": {},
   "outputs": [],
   "source": [
    "from time import time\n",
    "t0 = time()\n",
    "x = 100992929\n",
    "\n",
    "# Your code here\n",
    "\n",
    "t1 = time()\n",
    "print('RunTime: ',t1-t0)\n",
    "# Answer:"
   ]
  },
  {
   "cell_type": "markdown",
   "metadata": {},
   "source": [
    "Let's now modify the code more extensively. Use what you currently know to write a program that will print out the first 20 primes numbers. \n",
    "\n",
    "Hint: create a variable that counts the number of prime numbers you have found so far."
   ]
  },
  {
   "cell_type": "code",
   "execution_count": 23,
   "metadata": {},
   "outputs": [],
   "source": [
    "# your code here"
   ]
  },
  {
   "cell_type": "markdown",
   "metadata": {},
   "source": [
    "### While loops\n",
    "\n",
    "Sometimes, we don't know in advnace the number of iterations we will need to perform. Fortunately, there is another kind of loop that will keep computing *while* some logical condition is met. Not surprisingly, it is called a while-loop.\n",
    "\n",
    "<img src=\"image2.jpeg\" alt=\"drawing\" width=\"250\"/>\n",
    "\n",
    "Be very careful with while loops - a small slip up can make a loop that will crash your Jupyter Notebook!\n",
    "\n",
    "Consider the differences between these two loops (do not run either):"
   ]
  },
  {
   "cell_type": "markdown",
   "metadata": {},
   "source": [
    "    x = 0\n",
    "    while x < 100:\n",
    "        x = x + 1\n",
    "\n",
    "    x = 0\n",
    "    while x < 100:\n",
    "        y = x + 1"
   ]
  },
  {
   "cell_type": "markdown",
   "metadata": {},
   "source": [
    "In the first case, the loop will start at 0 and add 1 to x each time until it reaches 100. In the cell below, write a comment to explain why it will never end."
   ]
  },
  {
   "cell_type": "code",
   "execution_count": 35,
   "metadata": {},
   "outputs": [],
   "source": [
    "# your comment here"
   ]
  },
  {
   "cell_type": "markdown",
   "metadata": {},
   "source": [
    "Now, take the code that you wrote above that returns the first 20 prime numbers and alter it to use a while loop instead of a for loop"
   ]
  },
  {
   "cell_type": "code",
   "execution_count": 24,
   "metadata": {},
   "outputs": [],
   "source": [
    "# your code here"
   ]
  },
  {
   "cell_type": "markdown",
   "metadata": {},
   "source": [
    "#### While loops are more general than for-loops and are typicallty used when you don't know how many calculations you need to make."
   ]
  },
  {
   "cell_type": "markdown",
   "metadata": {},
   "source": [
    "### Writing your own functions\n",
    "\n",
    "So far, you have had practice using Python's built-in functions and downloading different packages and using those functions. However, what if you have a really specific problem you want to fix that no package or library can help you with? You make your own! Functions are helpful because they execute a certain piece of code, so you don't have to keep writing it everytime you want to do use it.\n",
    "\n",
    "Here is an example of how to make an adding function:\n",
    "\n",
    "    def my_function(parameter1, parameter2):\n",
    "        total = parameter1 + parameter2\n",
    "        print(total)\n",
    "        \n",
    "Where:\n",
    "- **_def_** defines the variable as a function.\n",
    "- ***my_function*** defines the variable.\n",
    "- **_(parameter1, parameter2)_** are the two parameters that must be passed in the function.\n",
    "- **_total_** is the variable set to the sum of *paramter1*, and *parameter2*.\n",
    "- **_print(total)_** prints the value of **_total_**\n",
    "        \n",
    "To execute this function, just type ***my_function(a,b)*** where a and b are two numbers you want to add."
   ]
  },
  {
   "cell_type": "code",
   "execution_count": 20,
   "metadata": {},
   "outputs": [
    {
     "name": "stdout",
     "output_type": "stream",
     "text": [
      "10\n"
     ]
    }
   ],
   "source": [
    "def my_function(parameter1, parameter2):\n",
    "    total = parameter1 + parameter2\n",
    "    print(total)\n",
    "\n",
    "my_function(3,7)"
   ]
  },
  {
   "cell_type": "markdown",
   "metadata": {},
   "source": [
    "Create a function which takes three parameters and plots the following equation.\n",
    "\n",
    "\\begin{equation*}\n",
    "y(x) = \\frac{4e^{-3x}}{2}\n",
    "\\end{equation*}\n",
    "\n",
    "Hint: Your parameters should correspond to the lower limit, upper limit, and the step you want to take"
   ]
  },
  {
   "cell_type": "code",
   "execution_count": 21,
   "metadata": {},
   "outputs": [
    {
     "data": {
      "image/png": "[encoded data removed]",
      "text/plain": [
       "<Figure size 432x288 with 1 Axes>"
      ]
     },
     "metadata": {},
     "output_type": "display_data"
    }
   ],
   "source": [
    "# Try your function with multiple different parameters to see how your graph changes\n",
    "\n",
    "def plot_function(low,high,step):\n",
    "    \n",
    "    x = np.arange(low,high,step)\n",
    "    y = (4*np.exp(-3*x))/2\n",
    "\n",
    "    plt.plot(x,y)\n",
    "    plt.show()\n",
    "\n",
    "plot_function(0,5,.1)"
   ]
  },
  {
   "cell_type": "markdown",
   "metadata": {},
   "source": [
    "#### Great job today! \n",
    "\n",
    "Don't forget to download and save your notebook in your personal Etna folder! "
   ]
  }
 ],
 "metadata": {
  "kernelspec": {
   "display_name": "Python 3",
   "language": "python",
   "name": "python3"
  },
  "language_info": {
   "codemirror_mode": {
    "name": "ipython",
    "version": 3
   },
   "file_extension": ".py",
   "mimetype": "text/x-python",
   "name": "python",
   "nbconvert_exporter": "python",
   "pygments_lexer": "ipython3",
   "version": "3.6.3"
  }
 },
 "nbformat": 4,
 "nbformat_minor": 2
}
